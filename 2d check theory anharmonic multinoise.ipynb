{
 "cells": [
  {
   "cell_type": "code",
   "execution_count": 1,
   "metadata": {},
   "outputs": [],
   "source": [
    "import numpy as np\n",
    "from matplotlib import pyplot as plt\n",
    "\n",
    "from warper import simulate_2d_anharmonic_multinoise as simulate_2d_anharmonic_multinoise\n",
    "\n",
    "from multiprocessing import Pool\n",
    "\n",
    "import os, pickle\n",
    "from tqdm.notebook import tqdm\n",
    "\n",
    "import pandas as pd"
   ]
  },
  {
   "cell_type": "raw",
   "metadata": {},
   "source": [
    "%matplotlib qt"
   ]
  },
  {
   "cell_type": "code",
   "execution_count": 2,
   "metadata": {},
   "outputs": [],
   "source": [
    "pool = Pool(6)"
   ]
  },
  {
   "cell_type": "code",
   "execution_count": 3,
   "metadata": {},
   "outputs": [],
   "source": [
    "def get_RSH(A,B,g0,b,ka,th, qc, qw):\n",
    "    o0 = np.sqrt(-A)\n",
    "    mu = ka*th / (ka+th)\n",
    "    den= (o0**2+th**2+g0*mu)**2+b**2*th**2\n",
    "    \n",
    "    Sw = qw/g0/2/ka**2*(ka**2+o0**2+g0*ka+b**2)\n",
    "    Sc = qc/g0/2 * (th/ka)**2 / den*( (o0**2+th**2+g0*mu)*(o0**2+ka**2+g0*mu)+b**2*th**2)\n",
    "    \n",
    "    Rw = qw/g0/2/o0**2/ka**2 * (o0**2+ka**2)\n",
    "    Rc = qc/g0/2 * (th/ka)**2 / den*( (o0**2+th**2+g0*mu)*(o0**2+ka**2+g0*mu*(ka/th)**2)+b**2*th**2)\n",
    "                            \n",
    "    Hw = - 1/2/g0/ka**2*b\n",
    "    Hc = qc/g0/2 * (th/ka)**2 / den* b*(ka-th)*(ka+th)\n",
    "    \n",
    "    R = Rw+Rc\n",
    "    S = Sw+Sc\n",
    "    H = Hw+Hc\n",
    "    return R,S,H, 2*(R*S+H**2)\n",
    "\n",
    "def mean_with_err(arr, axis):\n",
    "    return arr.mean(axis=axis), arr.std(axis=axis)/np.sqrt(arr.shape[axis])"
   ]
  },
  {
   "cell_type": "code",
   "execution_count": 4,
   "metadata": {},
   "outputs": [],
   "source": [
    "# params - A,B,C,D,F,g0,b,ka\n",
    "\n",
    "params = [\n",
    "]\n",
    "\n",
    "# bs =  (0,1,2,3,4,5,6,8,10,12,14,16,18,20,22,24,26,28,30)\n",
    "bs =  (0,3,8,10,16,20,24,30)\n",
    "# bs =  (0,3,6,10)#,12,14,16,18,20,22,24,26,28,30)\n",
    "params += [dict(A=-1,B=0,C=0,D=0,F=0,g0=1,b=b,ka=1, th=1, qw=1, qc=1) for b in bs]\n",
    "params += [dict(A=2,B=0.14,C=0,D=0,F=0,g0=1,b=b,ka=1, th=1, qw=1, qc=1) for b in bs]\n",
    "params += [dict(A=2,B=0.14,C=1,D=0.01,F=5,g0=1,b=b,ka=1, th=1, qw=1, qc=1) for b in bs]\n",
    "\n",
    "\n",
    "df = pd.DataFrame(params)"
   ]
  },
  {
   "cell_type": "code",
   "execution_count": 5,
   "metadata": {},
   "outputs": [
    {
     "name": "stderr",
     "output_type": "stream",
     "text": [
      "<ipython-input-3-d5ea0ea93ffa>:2: RuntimeWarning: invalid value encountered in sqrt\n",
      "  o0 = np.sqrt(-A)\n"
     ]
    }
   ],
   "source": [
    "def f(row):\n",
    "    return pd.Series(get_RSH(row.A, row.B, row.g0, row.b, row.ka, row.th, row.qc, row.qw),index=(\"R\",\"S\",\"H\",\"varL\"))\n",
    "df = pd.concat([df, df.apply(f, axis=1)], axis=1, sort=False)\n",
    "\n",
    "# df[\"S_init\"] = 1/df.g0/2/df.ka**2*(df.ka**2+df.g0*df.ka+df.b**2)\n",
    "\n",
    "# df[\"R_init\"] = df.A/df.B/2\n",
    "# df.loc[df.A<0,\"R_init\"] = 7\n",
    "\n",
    "# df[\"H_init\"] = - 1/2/df.g0/df.ka**2*df.b"
   ]
  },
  {
   "cell_type": "code",
   "execution_count": 6,
   "metadata": {},
   "outputs": [],
   "source": [
    "df[\"S_init\"] = 0\n",
    "df[\"R_init\"] = 0\n",
    "df[\"H_init\"] = 0"
   ]
  },
  {
   "cell_type": "code",
   "execution_count": 11,
   "metadata": {},
   "outputs": [],
   "source": [
    "N=2000000\n",
    "warmup=0\n",
    "dt=0.01\n",
    "samples=200\n",
    "skip=1000\n",
    "runs=6\n",
    "time = np.linspace(0,N//skip *dt, N//skip)\n",
    "\n",
    "dump_to_disk = False"
   ]
  },
  {
   "cell_type": "code",
   "execution_count": 12,
   "metadata": {},
   "outputs": [
    {
     "data": {
      "text/plain": [
       "0.858306884765625"
      ]
     },
     "execution_count": 12,
     "metadata": {},
     "output_type": "execute_result"
    }
   ],
   "source": [
    "(len(df) * N * runs * samples *4 // skip) * 4 / 1024**3"
   ]
  },
  {
   "cell_type": "code",
   "execution_count": null,
   "metadata": {},
   "outputs": [
    {
     "data": {
      "application/vnd.jupyter.widget-view+json": {
       "model_id": "e704a45dd0584bacba359ff53ec338fb",
       "version_major": 2,
       "version_minor": 0
      },
      "text/plain": [
       "HBox(children=(FloatProgress(value=0.0, max=24.0), HTML(value='')))"
      ]
     },
     "metadata": {},
     "output_type": "display_data"
    }
   ],
   "source": [
    "results = []\n",
    "for row in tqdm(df.itertuples(), total=len(df)):\n",
    "#     if row.Index <40:\n",
    "#         continue\n",
    "    kwargs = dict(x0=np.zeros(samples),y0=np.zeros(samples),\n",
    "                  vx0=np.zeros(samples),vy0=np.zeros(samples),\n",
    "        N=N, samples=samples,\n",
    "        dt=dt, warmup=warmup, skip=skip,\n",
    "        A=row.A,B=row.B,C=row.C,D=row.D,F=row.F,\n",
    "        gamma0=row.g0,b=row.b, kappa=row.ka, theta=row.th,\n",
    "        q_white=row.qw, q_colored=row.qc)\n",
    "    res = simulate_2d_anharmonic_multinoise(pool,runs,**kwargs)\n",
    "    if dump_to_disk:\n",
    "        np.save(f\"results/{row.Index}\", res)\n",
    "    else:\n",
    "        results.append(np.array(res[:4], dtype=\"float32\"))"
   ]
  },
  {
   "cell_type": "code",
   "execution_count": 10,
   "metadata": {},
   "outputs": [],
   "source": [
    "results = np.array(results)"
   ]
  },
  {
   "cell_type": "markdown",
   "metadata": {},
   "source": [
    "### Load dumped data"
   ]
  },
  {
   "cell_type": "code",
   "execution_count": 11,
   "metadata": {},
   "outputs": [
    {
     "ename": "FileNotFoundError",
     "evalue": "[WinError 3] The system cannot find the path specified: 'results'",
     "output_type": "error",
     "traceback": [
      "\u001b[1;31m---------------------------------------------------------------------------\u001b[0m",
      "\u001b[1;31mFileNotFoundError\u001b[0m                         Traceback (most recent call last)",
      "\u001b[1;32m<ipython-input-11-68881b2badfe>\u001b[0m in \u001b[0;36m<module>\u001b[1;34m\u001b[0m\n\u001b[0;32m      1\u001b[0m \u001b[1;32mimport\u001b[0m \u001b[0mos\u001b[0m\u001b[1;33m\u001b[0m\u001b[1;33m\u001b[0m\u001b[0m\n\u001b[1;32m----> 2\u001b[1;33m \u001b[0mn_files\u001b[0m \u001b[1;33m=\u001b[0m \u001b[0mlen\u001b[0m\u001b[1;33m(\u001b[0m\u001b[0mos\u001b[0m\u001b[1;33m.\u001b[0m\u001b[0mlistdir\u001b[0m\u001b[1;33m(\u001b[0m\u001b[1;34m\"results\"\u001b[0m\u001b[1;33m)\u001b[0m\u001b[1;33m)\u001b[0m\u001b[1;33m\u001b[0m\u001b[1;33m\u001b[0m\u001b[0m\n\u001b[0m",
      "\u001b[1;31mFileNotFoundError\u001b[0m: [WinError 3] The system cannot find the path specified: 'results'"
     ]
    }
   ],
   "source": [
    "import os\n",
    "n_files = len(os.listdir(\"results\"))"
   ]
  },
  {
   "cell_type": "code",
   "execution_count": null,
   "metadata": {},
   "outputs": [],
   "source": [
    "np.load(\"results/1.npy\").shape"
   ]
  },
  {
   "cell_type": "code",
   "execution_count": null,
   "metadata": {},
   "outputs": [],
   "source": [
    "results = np.zeros((n_files, 4, 800, 5000))"
   ]
  },
  {
   "cell_type": "code",
   "execution_count": null,
   "metadata": {},
   "outputs": [],
   "source": [
    "for i in tqdm(range(n_files)):\n",
    "    results[i] = np.load(f\"results/{i}.npy\")[:4,:,-5000:]"
   ]
  },
  {
   "cell_type": "code",
   "execution_count": 18,
   "metadata": {},
   "outputs": [
    {
     "data": {
      "text/plain": [
       "(57, 4, 800, 10000)"
      ]
     },
     "execution_count": 18,
     "metadata": {},
     "output_type": "execute_result"
    }
   ],
   "source": [
    "results[:,:,:,:].shape"
   ]
  },
  {
   "cell_type": "markdown",
   "metadata": {},
   "source": [
    "### Start Analisys"
   ]
  },
  {
   "cell_type": "code",
   "execution_count": 12,
   "metadata": {},
   "outputs": [],
   "source": [
    "cov = np.einsum(\"iakj,ibkj->ijab\", results[:,:4,:,:],results[:,:4,:,:],optimize=True)/(results.shape[2]-1)"
   ]
  },
  {
   "cell_type": "code",
   "execution_count": 13,
   "metadata": {},
   "outputs": [
    {
     "data": {
      "text/plain": [
       "(24, 8000, 4, 4)"
      ]
     },
     "execution_count": 13,
     "metadata": {},
     "output_type": "execute_result"
    }
   ],
   "source": [
    "cov.shape"
   ]
  },
  {
   "cell_type": "code",
   "execution_count": 14,
   "metadata": {},
   "outputs": [
    {
     "data": {
      "image/png": "[encoded data removed]",
      "text/plain": [
       "<Figure size 432x288 with 1 Axes>"
      ]
     },
     "metadata": {
      "needs_background": "light"
     },
     "output_type": "display_data"
    }
   ],
   "source": [
    "plt.plot(cov.transpose(1,0,2,3).reshape(-1,cov.shape[0]*16)[::], alpha=0.2);\n",
    "# plt.plot(cov[5,:,1,2]);"
   ]
  },
  {
   "cell_type": "code",
   "execution_count": 15,
   "metadata": {},
   "outputs": [],
   "source": [
    "stationari_treshold = 5000"
   ]
  },
  {
   "cell_type": "code",
   "execution_count": 16,
   "metadata": {},
   "outputs": [
    {
     "data": {
      "text/plain": [
       "(24, 4, 1200, 8000)"
      ]
     },
     "execution_count": 16,
     "metadata": {},
     "output_type": "execute_result"
    }
   ],
   "source": [
    "results.shape"
   ]
  },
  {
   "cell_type": "code",
   "execution_count": 17,
   "metadata": {},
   "outputs": [],
   "source": [
    "Rx,Ry, Sx, Sy = results[...,stationari_treshold::10].var(axis=2).transpose(1,0,2)\n",
    "Lx = results[:,0] * results[:,3]\n",
    "Ly = results[:,1] * results[:,2]\n",
    "\n",
    "Hx = Lx.mean(axis=1)\n",
    "Hy = Ly.mean(axis=1)"
   ]
  },
  {
   "cell_type": "code",
   "execution_count": 18,
   "metadata": {},
   "outputs": [],
   "source": [
    "df[\"Rx\"], df[\"Rx_err\"]= mean_with_err(Rx,axis=-1)\n",
    "df[\"Ry\"], df[\"Ry_err\"]= mean_with_err(Ry,axis=-1)\n",
    "df[\"Sx\"], df[\"Sx_err\"]= mean_with_err(Sx,axis=-1)\n",
    "df[\"Sy\"], df[\"Sy_err\"]= mean_with_err(Sy,axis=-1)\n",
    "df[\"Hx\"], df[\"Hx_err\"]= mean_with_err(Hx,axis=-1)\n",
    "df[\"Hy\"], df[\"Hy_err\"]= mean_with_err(Hy,axis=-1)\n",
    "\n",
    "# df[\"Rx\"], df[\"Rx_err\"]= mean_with_err(Rx,axis=-1)\n"
   ]
  },
  {
   "cell_type": "code",
   "execution_count": 19,
   "metadata": {},
   "outputs": [
    {
     "data": {
      "text/html": [
       "<div>\n",
       "<style scoped>\n",
       "    .dataframe tbody tr th:only-of-type {\n",
       "        vertical-align: middle;\n",
       "    }\n",
       "\n",
       "    .dataframe tbody tr th {\n",
       "        vertical-align: top;\n",
       "    }\n",
       "\n",
       "    .dataframe thead th {\n",
       "        text-align: right;\n",
       "    }\n",
       "</style>\n",
       "<table border=\"1\" class=\"dataframe\">\n",
       "  <thead>\n",
       "    <tr style=\"text-align: right;\">\n",
       "      <th></th>\n",
       "      <th>A</th>\n",
       "      <th>B</th>\n",
       "      <th>C</th>\n",
       "      <th>D</th>\n",
       "      <th>F</th>\n",
       "      <th>H</th>\n",
       "      <th>Hx</th>\n",
       "      <th>Hx_err</th>\n",
       "      <th>Hy</th>\n",
       "      <th>Hy_err</th>\n",
       "      <th>...</th>\n",
       "      <th>Ry_err</th>\n",
       "      <th>S</th>\n",
       "      <th>Sx</th>\n",
       "      <th>Sx_err</th>\n",
       "      <th>Sy</th>\n",
       "      <th>Sy_err</th>\n",
       "      <th>b</th>\n",
       "      <th>g0</th>\n",
       "      <th>ka</th>\n",
       "      <th>varL</th>\n",
       "    </tr>\n",
       "  </thead>\n",
       "  <tbody>\n",
       "    <tr>\n",
       "      <th>0</th>\n",
       "      <td>-1</td>\n",
       "      <td>0.00</td>\n",
       "      <td>0</td>\n",
       "      <td>0.00</td>\n",
       "      <td>0</td>\n",
       "      <td>-0.0</td>\n",
       "      <td>0.0004</td>\n",
       "      <td>0.0004</td>\n",
       "      <td>-0.0007</td>\n",
       "      <td>0.0004</td>\n",
       "      <td>...</td>\n",
       "      <td>0.0022</td>\n",
       "      <td>1.5</td>\n",
       "      <td>1.495900</td>\n",
       "      <td>0.0036</td>\n",
       "      <td>1.494700</td>\n",
       "      <td>0.0036</td>\n",
       "      <td>0</td>\n",
       "      <td>1</td>\n",
       "      <td>1</td>\n",
       "      <td>3.0</td>\n",
       "    </tr>\n",
       "    <tr>\n",
       "      <th>1</th>\n",
       "      <td>-1</td>\n",
       "      <td>0.00</td>\n",
       "      <td>0</td>\n",
       "      <td>0.00</td>\n",
       "      <td>0</td>\n",
       "      <td>-1.5</td>\n",
       "      <td>-1.4907</td>\n",
       "      <td>0.0011</td>\n",
       "      <td>1.4905</td>\n",
       "      <td>0.0011</td>\n",
       "      <td>...</td>\n",
       "      <td>0.0023</td>\n",
       "      <td>6.0</td>\n",
       "      <td>5.952800</td>\n",
       "      <td>0.0142</td>\n",
       "      <td>5.947700</td>\n",
       "      <td>0.0141</td>\n",
       "      <td>3</td>\n",
       "      <td>1</td>\n",
       "      <td>1</td>\n",
       "      <td>16.5</td>\n",
       "    </tr>\n",
       "    <tr>\n",
       "      <th>2</th>\n",
       "      <td>-1</td>\n",
       "      <td>0.00</td>\n",
       "      <td>0</td>\n",
       "      <td>0.00</td>\n",
       "      <td>0</td>\n",
       "      <td>-4.0</td>\n",
       "      <td>-3.9700</td>\n",
       "      <td>0.0037</td>\n",
       "      <td>3.9707</td>\n",
       "      <td>0.0037</td>\n",
       "      <td>...</td>\n",
       "      <td>0.0024</td>\n",
       "      <td>33.5</td>\n",
       "      <td>33.576900</td>\n",
       "      <td>0.0884</td>\n",
       "      <td>33.495602</td>\n",
       "      <td>0.0870</td>\n",
       "      <td>8</td>\n",
       "      <td>1</td>\n",
       "      <td>1</td>\n",
       "      <td>99.0</td>\n",
       "    </tr>\n",
       "    <tr>\n",
       "      <th>3</th>\n",
       "      <td>-1</td>\n",
       "      <td>0.00</td>\n",
       "      <td>0</td>\n",
       "      <td>0.00</td>\n",
       "      <td>0</td>\n",
       "      <td>-5.0</td>\n",
       "      <td>-4.9370</td>\n",
       "      <td>0.0052</td>\n",
       "      <td>4.9373</td>\n",
       "      <td>0.0052</td>\n",
       "      <td>...</td>\n",
       "      <td>0.0024</td>\n",
       "      <td>51.5</td>\n",
       "      <td>51.492802</td>\n",
       "      <td>0.1148</td>\n",
       "      <td>51.391800</td>\n",
       "      <td>0.1111</td>\n",
       "      <td>10</td>\n",
       "      <td>1</td>\n",
       "      <td>1</td>\n",
       "      <td>153.0</td>\n",
       "    </tr>\n",
       "    <tr>\n",
       "      <th>4</th>\n",
       "      <td>-1</td>\n",
       "      <td>0.00</td>\n",
       "      <td>0</td>\n",
       "      <td>0.00</td>\n",
       "      <td>0</td>\n",
       "      <td>-8.0</td>\n",
       "      <td>-7.8169</td>\n",
       "      <td>0.0125</td>\n",
       "      <td>7.8181</td>\n",
       "      <td>0.0125</td>\n",
       "      <td>...</td>\n",
       "      <td>0.0025</td>\n",
       "      <td>129.5</td>\n",
       "      <td>129.728699</td>\n",
       "      <td>0.3443</td>\n",
       "      <td>129.804596</td>\n",
       "      <td>0.3512</td>\n",
       "      <td>16</td>\n",
       "      <td>1</td>\n",
       "      <td>1</td>\n",
       "      <td>387.0</td>\n",
       "    </tr>\n",
       "    <tr>\n",
       "      <th>5</th>\n",
       "      <td>-1</td>\n",
       "      <td>0.00</td>\n",
       "      <td>0</td>\n",
       "      <td>0.00</td>\n",
       "      <td>0</td>\n",
       "      <td>-10.0</td>\n",
       "      <td>-9.5008</td>\n",
       "      <td>0.0177</td>\n",
       "      <td>9.5024</td>\n",
       "      <td>0.0177</td>\n",
       "      <td>...</td>\n",
       "      <td>0.0023</td>\n",
       "      <td>201.5</td>\n",
       "      <td>204.096298</td>\n",
       "      <td>0.5429</td>\n",
       "      <td>201.004593</td>\n",
       "      <td>0.6108</td>\n",
       "      <td>20</td>\n",
       "      <td>1</td>\n",
       "      <td>1</td>\n",
       "      <td>603.0</td>\n",
       "    </tr>\n",
       "    <tr>\n",
       "      <th>6</th>\n",
       "      <td>-1</td>\n",
       "      <td>0.00</td>\n",
       "      <td>0</td>\n",
       "      <td>0.00</td>\n",
       "      <td>0</td>\n",
       "      <td>-12.0</td>\n",
       "      <td>-11.0178</td>\n",
       "      <td>0.0243</td>\n",
       "      <td>11.0206</td>\n",
       "      <td>0.0243</td>\n",
       "      <td>...</td>\n",
       "      <td>0.0020</td>\n",
       "      <td>289.5</td>\n",
       "      <td>288.829987</td>\n",
       "      <td>0.7023</td>\n",
       "      <td>288.896393</td>\n",
       "      <td>0.7142</td>\n",
       "      <td>24</td>\n",
       "      <td>1</td>\n",
       "      <td>1</td>\n",
       "      <td>867.0</td>\n",
       "    </tr>\n",
       "    <tr>\n",
       "      <th>7</th>\n",
       "      <td>-1</td>\n",
       "      <td>0.00</td>\n",
       "      <td>0</td>\n",
       "      <td>0.00</td>\n",
       "      <td>0</td>\n",
       "      <td>-15.0</td>\n",
       "      <td>-13.1008</td>\n",
       "      <td>0.0351</td>\n",
       "      <td>13.1070</td>\n",
       "      <td>0.0351</td>\n",
       "      <td>...</td>\n",
       "      <td>0.0019</td>\n",
       "      <td>451.5</td>\n",
       "      <td>442.035187</td>\n",
       "      <td>1.0742</td>\n",
       "      <td>441.909210</td>\n",
       "      <td>1.1038</td>\n",
       "      <td>30</td>\n",
       "      <td>1</td>\n",
       "      <td>1</td>\n",
       "      <td>1353.0</td>\n",
       "    </tr>\n",
       "    <tr>\n",
       "      <th>8</th>\n",
       "      <td>2</td>\n",
       "      <td>0.14</td>\n",
       "      <td>0</td>\n",
       "      <td>0.00</td>\n",
       "      <td>0</td>\n",
       "      <td>-0.0</td>\n",
       "      <td>0.0014</td>\n",
       "      <td>0.0010</td>\n",
       "      <td>-0.0015</td>\n",
       "      <td>0.0010</td>\n",
       "      <td>...</td>\n",
       "      <td>0.0094</td>\n",
       "      <td>NaN</td>\n",
       "      <td>1.607700</td>\n",
       "      <td>0.0036</td>\n",
       "      <td>1.606900</td>\n",
       "      <td>0.0038</td>\n",
       "      <td>0</td>\n",
       "      <td>1</td>\n",
       "      <td>1</td>\n",
       "      <td>NaN</td>\n",
       "    </tr>\n",
       "    <tr>\n",
       "      <th>9</th>\n",
       "      <td>2</td>\n",
       "      <td>0.14</td>\n",
       "      <td>0</td>\n",
       "      <td>0.00</td>\n",
       "      <td>0</td>\n",
       "      <td>-1.5</td>\n",
       "      <td>-1.4390</td>\n",
       "      <td>0.0020</td>\n",
       "      <td>1.4386</td>\n",
       "      <td>0.0020</td>\n",
       "      <td>...</td>\n",
       "      <td>0.0091</td>\n",
       "      <td>NaN</td>\n",
       "      <td>5.994400</td>\n",
       "      <td>0.0133</td>\n",
       "      <td>5.995200</td>\n",
       "      <td>0.0138</td>\n",
       "      <td>3</td>\n",
       "      <td>1</td>\n",
       "      <td>1</td>\n",
       "      <td>NaN</td>\n",
       "    </tr>\n",
       "    <tr>\n",
       "      <th>10</th>\n",
       "      <td>2</td>\n",
       "      <td>0.14</td>\n",
       "      <td>0</td>\n",
       "      <td>0.00</td>\n",
       "      <td>0</td>\n",
       "      <td>-4.0</td>\n",
       "      <td>-3.9308</td>\n",
       "      <td>0.0054</td>\n",
       "      <td>3.9311</td>\n",
       "      <td>0.0052</td>\n",
       "      <td>...</td>\n",
       "      <td>0.0099</td>\n",
       "      <td>NaN</td>\n",
       "      <td>33.473598</td>\n",
       "      <td>0.0826</td>\n",
       "      <td>33.390999</td>\n",
       "      <td>0.0755</td>\n",
       "      <td>8</td>\n",
       "      <td>1</td>\n",
       "      <td>1</td>\n",
       "      <td>NaN</td>\n",
       "    </tr>\n",
       "    <tr>\n",
       "      <th>11</th>\n",
       "      <td>2</td>\n",
       "      <td>0.14</td>\n",
       "      <td>0</td>\n",
       "      <td>0.00</td>\n",
       "      <td>0</td>\n",
       "      <td>-5.0</td>\n",
       "      <td>-4.8612</td>\n",
       "      <td>0.0072</td>\n",
       "      <td>4.8623</td>\n",
       "      <td>0.0069</td>\n",
       "      <td>...</td>\n",
       "      <td>0.0095</td>\n",
       "      <td>NaN</td>\n",
       "      <td>51.280300</td>\n",
       "      <td>0.1182</td>\n",
       "      <td>51.267700</td>\n",
       "      <td>0.1065</td>\n",
       "      <td>10</td>\n",
       "      <td>1</td>\n",
       "      <td>1</td>\n",
       "      <td>NaN</td>\n",
       "    </tr>\n",
       "    <tr>\n",
       "      <th>12</th>\n",
       "      <td>2</td>\n",
       "      <td>0.14</td>\n",
       "      <td>0</td>\n",
       "      <td>0.00</td>\n",
       "      <td>0</td>\n",
       "      <td>-8.0</td>\n",
       "      <td>-7.6926</td>\n",
       "      <td>0.0140</td>\n",
       "      <td>7.6933</td>\n",
       "      <td>0.0137</td>\n",
       "      <td>...</td>\n",
       "      <td>0.0099</td>\n",
       "      <td>NaN</td>\n",
       "      <td>129.667801</td>\n",
       "      <td>0.2920</td>\n",
       "      <td>129.475906</td>\n",
       "      <td>0.2952</td>\n",
       "      <td>16</td>\n",
       "      <td>1</td>\n",
       "      <td>1</td>\n",
       "      <td>NaN</td>\n",
       "    </tr>\n",
       "    <tr>\n",
       "      <th>13</th>\n",
       "      <td>2</td>\n",
       "      <td>0.14</td>\n",
       "      <td>0</td>\n",
       "      <td>0.00</td>\n",
       "      <td>0</td>\n",
       "      <td>-10.0</td>\n",
       "      <td>-9.2929</td>\n",
       "      <td>0.0188</td>\n",
       "      <td>9.2945</td>\n",
       "      <td>0.0187</td>\n",
       "      <td>...</td>\n",
       "      <td>0.0091</td>\n",
       "      <td>NaN</td>\n",
       "      <td>198.762802</td>\n",
       "      <td>0.5049</td>\n",
       "      <td>198.623398</td>\n",
       "      <td>0.4139</td>\n",
       "      <td>20</td>\n",
       "      <td>1</td>\n",
       "      <td>1</td>\n",
       "      <td>NaN</td>\n",
       "    </tr>\n",
       "    <tr>\n",
       "      <th>14</th>\n",
       "      <td>2</td>\n",
       "      <td>0.14</td>\n",
       "      <td>0</td>\n",
       "      <td>0.00</td>\n",
       "      <td>0</td>\n",
       "      <td>-12.0</td>\n",
       "      <td>-11.0206</td>\n",
       "      <td>0.0257</td>\n",
       "      <td>11.0246</td>\n",
       "      <td>0.0261</td>\n",
       "      <td>...</td>\n",
       "      <td>0.0098</td>\n",
       "      <td>NaN</td>\n",
       "      <td>287.373413</td>\n",
       "      <td>0.6737</td>\n",
       "      <td>287.396790</td>\n",
       "      <td>0.6793</td>\n",
       "      <td>24</td>\n",
       "      <td>1</td>\n",
       "      <td>1</td>\n",
       "      <td>NaN</td>\n",
       "    </tr>\n",
       "    <tr>\n",
       "      <th>15</th>\n",
       "      <td>2</td>\n",
       "      <td>0.14</td>\n",
       "      <td>0</td>\n",
       "      <td>0.00</td>\n",
       "      <td>0</td>\n",
       "      <td>-15.0</td>\n",
       "      <td>-13.3136</td>\n",
       "      <td>0.0384</td>\n",
       "      <td>13.3199</td>\n",
       "      <td>0.0391</td>\n",
       "      <td>...</td>\n",
       "      <td>0.0103</td>\n",
       "      <td>NaN</td>\n",
       "      <td>454.894592</td>\n",
       "      <td>0.8678</td>\n",
       "      <td>454.819214</td>\n",
       "      <td>0.8863</td>\n",
       "      <td>30</td>\n",
       "      <td>1</td>\n",
       "      <td>1</td>\n",
       "      <td>NaN</td>\n",
       "    </tr>\n",
       "    <tr>\n",
       "      <th>16</th>\n",
       "      <td>2</td>\n",
       "      <td>0.14</td>\n",
       "      <td>1</td>\n",
       "      <td>0.01</td>\n",
       "      <td>5</td>\n",
       "      <td>-0.0</td>\n",
       "      <td>-0.0009</td>\n",
       "      <td>0.0010</td>\n",
       "      <td>0.0004</td>\n",
       "      <td>0.0010</td>\n",
       "      <td>...</td>\n",
       "      <td>0.0095</td>\n",
       "      <td>NaN</td>\n",
       "      <td>1.725600</td>\n",
       "      <td>0.0042</td>\n",
       "      <td>1.725800</td>\n",
       "      <td>0.0042</td>\n",
       "      <td>0</td>\n",
       "      <td>1</td>\n",
       "      <td>1</td>\n",
       "      <td>NaN</td>\n",
       "    </tr>\n",
       "    <tr>\n",
       "      <th>17</th>\n",
       "      <td>2</td>\n",
       "      <td>0.14</td>\n",
       "      <td>1</td>\n",
       "      <td>0.01</td>\n",
       "      <td>5</td>\n",
       "      <td>-1.5</td>\n",
       "      <td>-1.3744</td>\n",
       "      <td>0.0020</td>\n",
       "      <td>1.3741</td>\n",
       "      <td>0.0020</td>\n",
       "      <td>...</td>\n",
       "      <td>0.0097</td>\n",
       "      <td>NaN</td>\n",
       "      <td>5.814200</td>\n",
       "      <td>0.0131</td>\n",
       "      <td>5.812800</td>\n",
       "      <td>0.0139</td>\n",
       "      <td>3</td>\n",
       "      <td>1</td>\n",
       "      <td>1</td>\n",
       "      <td>NaN</td>\n",
       "    </tr>\n",
       "    <tr>\n",
       "      <th>18</th>\n",
       "      <td>2</td>\n",
       "      <td>0.14</td>\n",
       "      <td>1</td>\n",
       "      <td>0.01</td>\n",
       "      <td>5</td>\n",
       "      <td>-4.0</td>\n",
       "      <td>-3.9132</td>\n",
       "      <td>0.0054</td>\n",
       "      <td>3.9129</td>\n",
       "      <td>0.0054</td>\n",
       "      <td>...</td>\n",
       "      <td>0.0090</td>\n",
       "      <td>NaN</td>\n",
       "      <td>33.224701</td>\n",
       "      <td>0.0762</td>\n",
       "      <td>33.065399</td>\n",
       "      <td>0.0783</td>\n",
       "      <td>8</td>\n",
       "      <td>1</td>\n",
       "      <td>1</td>\n",
       "      <td>NaN</td>\n",
       "    </tr>\n",
       "    <tr>\n",
       "      <th>19</th>\n",
       "      <td>2</td>\n",
       "      <td>0.14</td>\n",
       "      <td>1</td>\n",
       "      <td>0.01</td>\n",
       "      <td>5</td>\n",
       "      <td>-5.0</td>\n",
       "      <td>-4.8396</td>\n",
       "      <td>0.0073</td>\n",
       "      <td>4.8391</td>\n",
       "      <td>0.0072</td>\n",
       "      <td>...</td>\n",
       "      <td>0.0098</td>\n",
       "      <td>NaN</td>\n",
       "      <td>50.374199</td>\n",
       "      <td>0.1248</td>\n",
       "      <td>50.436401</td>\n",
       "      <td>0.1239</td>\n",
       "      <td>10</td>\n",
       "      <td>1</td>\n",
       "      <td>1</td>\n",
       "      <td>NaN</td>\n",
       "    </tr>\n",
       "    <tr>\n",
       "      <th>20</th>\n",
       "      <td>2</td>\n",
       "      <td>0.14</td>\n",
       "      <td>1</td>\n",
       "      <td>0.01</td>\n",
       "      <td>5</td>\n",
       "      <td>-8.0</td>\n",
       "      <td>-7.6716</td>\n",
       "      <td>0.0140</td>\n",
       "      <td>7.6725</td>\n",
       "      <td>0.0138</td>\n",
       "      <td>...</td>\n",
       "      <td>0.0092</td>\n",
       "      <td>NaN</td>\n",
       "      <td>125.821701</td>\n",
       "      <td>0.2622</td>\n",
       "      <td>125.584999</td>\n",
       "      <td>0.2746</td>\n",
       "      <td>16</td>\n",
       "      <td>1</td>\n",
       "      <td>1</td>\n",
       "      <td>NaN</td>\n",
       "    </tr>\n",
       "    <tr>\n",
       "      <th>21</th>\n",
       "      <td>2</td>\n",
       "      <td>0.14</td>\n",
       "      <td>1</td>\n",
       "      <td>0.01</td>\n",
       "      <td>5</td>\n",
       "      <td>-10.0</td>\n",
       "      <td>-9.5013</td>\n",
       "      <td>0.0199</td>\n",
       "      <td>9.5032</td>\n",
       "      <td>0.0195</td>\n",
       "      <td>...</td>\n",
       "      <td>0.0084</td>\n",
       "      <td>NaN</td>\n",
       "      <td>199.552994</td>\n",
       "      <td>0.4232</td>\n",
       "      <td>201.305206</td>\n",
       "      <td>0.4337</td>\n",
       "      <td>20</td>\n",
       "      <td>1</td>\n",
       "      <td>1</td>\n",
       "      <td>NaN</td>\n",
       "    </tr>\n",
       "    <tr>\n",
       "      <th>22</th>\n",
       "      <td>2</td>\n",
       "      <td>0.14</td>\n",
       "      <td>1</td>\n",
       "      <td>0.01</td>\n",
       "      <td>5</td>\n",
       "      <td>-12.0</td>\n",
       "      <td>-11.3823</td>\n",
       "      <td>0.0266</td>\n",
       "      <td>11.3843</td>\n",
       "      <td>0.0266</td>\n",
       "      <td>...</td>\n",
       "      <td>0.0101</td>\n",
       "      <td>NaN</td>\n",
       "      <td>291.666504</td>\n",
       "      <td>0.6811</td>\n",
       "      <td>291.779785</td>\n",
       "      <td>0.6813</td>\n",
       "      <td>24</td>\n",
       "      <td>1</td>\n",
       "      <td>1</td>\n",
       "      <td>NaN</td>\n",
       "    </tr>\n",
       "    <tr>\n",
       "      <th>23</th>\n",
       "      <td>2</td>\n",
       "      <td>0.14</td>\n",
       "      <td>1</td>\n",
       "      <td>0.01</td>\n",
       "      <td>5</td>\n",
       "      <td>-15.0</td>\n",
       "      <td>-13.3438</td>\n",
       "      <td>0.0383</td>\n",
       "      <td>13.3491</td>\n",
       "      <td>0.0377</td>\n",
       "      <td>...</td>\n",
       "      <td>0.0100</td>\n",
       "      <td>NaN</td>\n",
       "      <td>450.647186</td>\n",
       "      <td>1.4232</td>\n",
       "      <td>451.139709</td>\n",
       "      <td>1.3313</td>\n",
       "      <td>30</td>\n",
       "      <td>1</td>\n",
       "      <td>1</td>\n",
       "      <td>NaN</td>\n",
       "    </tr>\n",
       "  </tbody>\n",
       "</table>\n",
       "<p>24 rows × 24 columns</p>\n",
       "</div>"
      ],
      "text/plain": [
       "    A     B  C     D  F     H       Hx  Hx_err       Hy  Hy_err  ...  Ry_err  \\\n",
       "0  -1  0.00  0  0.00  0  -0.0   0.0004  0.0004  -0.0007  0.0004  ...  0.0022   \n",
       "1  -1  0.00  0  0.00  0  -1.5  -1.4907  0.0011   1.4905  0.0011  ...  0.0023   \n",
       "2  -1  0.00  0  0.00  0  -4.0  -3.9700  0.0037   3.9707  0.0037  ...  0.0024   \n",
       "3  -1  0.00  0  0.00  0  -5.0  -4.9370  0.0052   4.9373  0.0052  ...  0.0024   \n",
       "4  -1  0.00  0  0.00  0  -8.0  -7.8169  0.0125   7.8181  0.0125  ...  0.0025   \n",
       "5  -1  0.00  0  0.00  0 -10.0  -9.5008  0.0177   9.5024  0.0177  ...  0.0023   \n",
       "6  -1  0.00  0  0.00  0 -12.0 -11.0178  0.0243  11.0206  0.0243  ...  0.0020   \n",
       "7  -1  0.00  0  0.00  0 -15.0 -13.1008  0.0351  13.1070  0.0351  ...  0.0019   \n",
       "8   2  0.14  0  0.00  0  -0.0   0.0014  0.0010  -0.0015  0.0010  ...  0.0094   \n",
       "9   2  0.14  0  0.00  0  -1.5  -1.4390  0.0020   1.4386  0.0020  ...  0.0091   \n",
       "10  2  0.14  0  0.00  0  -4.0  -3.9308  0.0054   3.9311  0.0052  ...  0.0099   \n",
       "11  2  0.14  0  0.00  0  -5.0  -4.8612  0.0072   4.8623  0.0069  ...  0.0095   \n",
       "12  2  0.14  0  0.00  0  -8.0  -7.6926  0.0140   7.6933  0.0137  ...  0.0099   \n",
       "13  2  0.14  0  0.00  0 -10.0  -9.2929  0.0188   9.2945  0.0187  ...  0.0091   \n",
       "14  2  0.14  0  0.00  0 -12.0 -11.0206  0.0257  11.0246  0.0261  ...  0.0098   \n",
       "15  2  0.14  0  0.00  0 -15.0 -13.3136  0.0384  13.3199  0.0391  ...  0.0103   \n",
       "16  2  0.14  1  0.01  5  -0.0  -0.0009  0.0010   0.0004  0.0010  ...  0.0095   \n",
       "17  2  0.14  1  0.01  5  -1.5  -1.3744  0.0020   1.3741  0.0020  ...  0.0097   \n",
       "18  2  0.14  1  0.01  5  -4.0  -3.9132  0.0054   3.9129  0.0054  ...  0.0090   \n",
       "19  2  0.14  1  0.01  5  -5.0  -4.8396  0.0073   4.8391  0.0072  ...  0.0098   \n",
       "20  2  0.14  1  0.01  5  -8.0  -7.6716  0.0140   7.6725  0.0138  ...  0.0092   \n",
       "21  2  0.14  1  0.01  5 -10.0  -9.5013  0.0199   9.5032  0.0195  ...  0.0084   \n",
       "22  2  0.14  1  0.01  5 -12.0 -11.3823  0.0266  11.3843  0.0266  ...  0.0101   \n",
       "23  2  0.14  1  0.01  5 -15.0 -13.3438  0.0383  13.3491  0.0377  ...  0.0100   \n",
       "\n",
       "        S          Sx  Sx_err          Sy  Sy_err   b  g0  ka    varL  \n",
       "0     1.5    1.495900  0.0036    1.494700  0.0036   0   1   1     3.0  \n",
       "1     6.0    5.952800  0.0142    5.947700  0.0141   3   1   1    16.5  \n",
       "2    33.5   33.576900  0.0884   33.495602  0.0870   8   1   1    99.0  \n",
       "3    51.5   51.492802  0.1148   51.391800  0.1111  10   1   1   153.0  \n",
       "4   129.5  129.728699  0.3443  129.804596  0.3512  16   1   1   387.0  \n",
       "5   201.5  204.096298  0.5429  201.004593  0.6108  20   1   1   603.0  \n",
       "6   289.5  288.829987  0.7023  288.896393  0.7142  24   1   1   867.0  \n",
       "7   451.5  442.035187  1.0742  441.909210  1.1038  30   1   1  1353.0  \n",
       "8     NaN    1.607700  0.0036    1.606900  0.0038   0   1   1     NaN  \n",
       "9     NaN    5.994400  0.0133    5.995200  0.0138   3   1   1     NaN  \n",
       "10    NaN   33.473598  0.0826   33.390999  0.0755   8   1   1     NaN  \n",
       "11    NaN   51.280300  0.1182   51.267700  0.1065  10   1   1     NaN  \n",
       "12    NaN  129.667801  0.2920  129.475906  0.2952  16   1   1     NaN  \n",
       "13    NaN  198.762802  0.5049  198.623398  0.4139  20   1   1     NaN  \n",
       "14    NaN  287.373413  0.6737  287.396790  0.6793  24   1   1     NaN  \n",
       "15    NaN  454.894592  0.8678  454.819214  0.8863  30   1   1     NaN  \n",
       "16    NaN    1.725600  0.0042    1.725800  0.0042   0   1   1     NaN  \n",
       "17    NaN    5.814200  0.0131    5.812800  0.0139   3   1   1     NaN  \n",
       "18    NaN   33.224701  0.0762   33.065399  0.0783   8   1   1     NaN  \n",
       "19    NaN   50.374199  0.1248   50.436401  0.1239  10   1   1     NaN  \n",
       "20    NaN  125.821701  0.2622  125.584999  0.2746  16   1   1     NaN  \n",
       "21    NaN  199.552994  0.4232  201.305206  0.4337  20   1   1     NaN  \n",
       "22    NaN  291.666504  0.6811  291.779785  0.6813  24   1   1     NaN  \n",
       "23    NaN  450.647186  1.4232  451.139709  1.3313  30   1   1     NaN  \n",
       "\n",
       "[24 rows x 24 columns]"
      ]
     },
     "execution_count": 19,
     "metadata": {},
     "output_type": "execute_result"
    }
   ],
   "source": [
    "df[sorted(df.columns)].round(4)"
   ]
  },
  {
   "cell_type": "code",
   "execution_count": 20,
   "metadata": {},
   "outputs": [
    {
     "data": {
      "text/plain": [
       "<matplotlib.legend.Legend at 0x2a180870d60>"
      ]
     },
     "execution_count": 20,
     "metadata": {},
     "output_type": "execute_result"
    },
    {
     "data": {
      "image/png": "[encoded data removed]",
      "text/plain": [
       "<Figure size 1500x1050 with 1 Axes>"
      ]
     },
     "metadata": {
      "needs_background": "light"
     },
     "output_type": "display_data"
    }
   ],
   "source": [
    "gb=df.groupby([\"A\",\"B\",\"C\",\"D\",\"F\"])\n",
    "\n",
    "plt.figure(figsize=(10,7), dpi=150)\n",
    "plt.title(\"H vs b\")\n",
    "plt.xlabel(\"b\");plt.ylabel(\"H\")\n",
    "plt.plot(*zip(*[(b, get_RSH(-1, 0,1,b,1)[2]) for b in np.linspace(min(bs), max(bs))]),ls=(0, (5, 10)), label=\"harmonic (theory)\")\n",
    "for key in gb.groups:\n",
    "    gp = gb.get_group(key)\n",
    "#     plt.plot(gp.b, gp.Hx)\n",
    "    plt.errorbar(gp.b, gp.Hx, yerr=gp.Hx_err*10, capsize=7, marker=\"o\", ls=\"none\", \n",
    "                 label=f\"A: {gp.A.mean():0.2f} B: {gp.B.mean():0.2f} C: {gp.C.mean():0.2f}\")\n",
    "# plt.xlim(-1,5)\n",
    "# plt.ylim(-4,1)\n",
    "plt.legend()"
   ]
  },
  {
   "cell_type": "code",
   "execution_count": 39,
   "metadata": {},
   "outputs": [
    {
     "data": {
      "text/plain": [
       "<matplotlib.legend.Legend at 0x7f8ebc127cf8>"
      ]
     },
     "execution_count": 39,
     "metadata": {},
     "output_type": "execute_result"
    },
    {
     "data": {
      "image/png": "[encoded data removed]",
      "text/plain": [
       "<Figure size 1500x1050 with 2 Axes>"
      ]
     },
     "metadata": {
      "needs_background": "light"
     },
     "output_type": "display_data"
    }
   ],
   "source": [
    "gb=df.groupby([\"A\",\"B\",\"C\",\"D\",\"F\"])\n",
    "\n",
    "plt.figure(figsize=(10,7), dpi=150)\n",
    "plt.subplot(121)\n",
    "plt.title(\"R vs b\")\n",
    "plt.xlabel(\"b\");plt.ylabel(\"R\")\n",
    "plt.plot(*zip(*[(b, get_RSH(-1, 0,1,b,1)[0]) for b in np.linspace(min(bs), max(bs))]),ls=(0, (5, 10)), label=\"harmonic (theory)\")\n",
    "for key in gb.groups:\n",
    "    gp = gb.get_group(key)\n",
    "#     plt.plot(gp.b, gp.Hx)\n",
    "    plt.errorbar(gp.b, gp.Rx, yerr=gp.Rx_err*10, capsize=7, marker=\"o\", ls=\"none\", \n",
    "                label=f\"A: {gp.A.mean():0.2f} B: {gp.B.mean():0.2f} C: {gp.C.mean():0.2f}\")\n",
    "plt.legend()\n",
    "\n",
    "plt.subplot(122)\n",
    "plt.title(\"S vs b\")\n",
    "plt.xlabel(\"b\");plt.ylabel(\"S\")\n",
    "plt.plot(*zip(*[(b, get_RSH(-1, 0,1,b,1)[1]) for b in np.linspace(min(bs), max(bs))]),ls=(0, (5, 10)), label=\"harmonic (theory)\")\n",
    "for key in gb.groups:\n",
    "    gp = gb.get_group(key)\n",
    "#     plt.plot(gp.b, gp.Hx)\n",
    "    plt.errorbar(gp.b, gp.Sx, yerr=gp.Sx_err*10, capsize=7, marker=\"o\", ls=\"none\", \n",
    "                label=f\"A: {gp.A.mean():0.2f} B: {gp.B.mean():0.2f} C: {gp.C.mean():0.2f}\")\n",
    "plt.legend()"
   ]
  },
  {
   "cell_type": "code",
   "execution_count": null,
   "metadata": {},
   "outputs": [],
   "source": [
    "gb.groups"
   ]
  },
  {
   "cell_type": "code",
   "execution_count": null,
   "metadata": {},
   "outputs": [],
   "source": [
    "dir(gb)"
   ]
  },
  {
   "cell_type": "code",
   "execution_count": null,
   "metadata": {},
   "outputs": [],
   "source": [
    "R_sample = results.var(axis=2)[:,0] \n",
    "S_sample = results.var(axis=2)[:,2]"
   ]
  },
  {
   "cell_type": "code",
   "execution_count": null,
   "metadata": {},
   "outputs": [],
   "source": [
    "L = (results[:,0] * results[:,3] - results[:,1] * results[:,2])\n",
    "H_sample = L.mean(axis=1)/2"
   ]
  },
  {
   "cell_type": "code",
   "execution_count": null,
   "metadata": {},
   "outputs": [],
   "source": [
    "H_sample.shape"
   ]
  },
  {
   "cell_type": "code",
   "execution_count": null,
   "metadata": {},
   "outputs": [],
   "source": [
    "H_sample[:,-3000:].mean(axis=1)"
   ]
  },
  {
   "cell_type": "code",
   "execution_count": null,
   "metadata": {},
   "outputs": [],
   "source": [
    "np.sqrt(H_sample[:,-3000:].var(axis=1)/3000)"
   ]
  },
  {
   "cell_type": "code",
   "execution_count": null,
   "metadata": {},
   "outputs": [],
   "source": [
    "H"
   ]
  },
  {
   "cell_type": "code",
   "execution_count": null,
   "metadata": {},
   "outputs": [],
   "source": [
    "plt.figure(figsize=(10,5))\n",
    "plt.subplot(131)\n",
    "plt.scatter(S, S_sample[..., -1])\n",
    "plt.subplot(132)\n",
    "plt.scatter(R, R_sample[..., -1])\n",
    "plt.subplot(133)\n",
    "plt.scatter(H, H_sample[..., -1])"
   ]
  },
  {
   "cell_type": "code",
   "execution_count": null,
   "metadata": {},
   "outputs": [],
   "source": [
    "results.shape"
   ]
  },
  {
   "cell_type": "code",
   "execution_count": null,
   "metadata": {},
   "outputs": [],
   "source": [
    "L.shape"
   ]
  },
  {
   "cell_type": "code",
   "execution_count": null,
   "metadata": {},
   "outputs": [],
   "source": [
    "# T = results[:,2,:,:]\n",
    "T = L/2\n",
    "hlines = H"
   ]
  },
  {
   "cell_type": "code",
   "execution_count": null,
   "metadata": {},
   "outputs": [],
   "source": [
    "T.shape[0]"
   ]
  },
  {
   "cell_type": "code",
   "execution_count": null,
   "metadata": {
    "scrolled": false
   },
   "outputs": [],
   "source": [
    "fig, axs = plt.subplots(1+T.shape[0]//2,2,figsize=(14,8),dpi=120)\n",
    "for ax, xi,h in zip(axs.flatten(),T[:,:,:], hlines):\n",
    "    ax.plot(time, xi.mean(axis=0))\n",
    "    ax.hlines(y=h, xmin=0, xmax=max(time), colors=\"r\")\n",
    "# plt.show()"
   ]
  },
  {
   "cell_type": "code",
   "execution_count": null,
   "metadata": {},
   "outputs": [],
   "source": [
    "L.shape"
   ]
  },
  {
   "cell_type": "code",
   "execution_count": null,
   "metadata": {},
   "outputs": [],
   "source": [
    "plt.hist(L[0,:,-1], bins=100);"
   ]
  },
  {
   "cell_type": "code",
   "execution_count": null,
   "metadata": {},
   "outputs": [],
   "source": [
    "L[1,:,-1].mean()"
   ]
  },
  {
   "cell_type": "code",
   "execution_count": null,
   "metadata": {},
   "outputs": [],
   "source": [
    "sorted(L[1,:,-1])[1600]"
   ]
  },
  {
   "cell_type": "code",
   "execution_count": null,
   "metadata": {},
   "outputs": [],
   "source": [
    "L.shape"
   ]
  },
  {
   "cell_type": "code",
   "execution_count": null,
   "metadata": {},
   "outputs": [],
   "source": [
    "plt.figure(figsize=(14,8))\n",
    "plt.plot(L[1,2,3000:])"
   ]
  },
  {
   "cell_type": "code",
   "execution_count": null,
   "metadata": {},
   "outputs": [],
   "source": []
  }
 ],
 "metadata": {
  "kernelspec": {
   "display_name": "Python 3",
   "language": "python",
   "name": "python3"
  },
  "language_info": {
   "codemirror_mode": {
    "name": "ipython",
    "version": 3
   },
   "file_extension": ".py",
   "mimetype": "text/x-python",
   "name": "python",
   "nbconvert_exporter": "python",
   "pygments_lexer": "ipython3",
   "version": "3.8.3"
  }
 },
 "nbformat": 4,
 "nbformat_minor": 4
}

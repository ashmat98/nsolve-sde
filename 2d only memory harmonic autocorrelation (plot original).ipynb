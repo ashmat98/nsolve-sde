{
 "cells": [
  {
   "cell_type": "code",
   "execution_count": 1,
   "metadata": {},
   "outputs": [],
   "source": [
    "from utils import *"
   ]
  },
  {
   "cell_type": "raw",
   "metadata": {},
   "source": [
    "%matplotlib qt"
   ]
  },
  {
   "cell_type": "code",
   "execution_count": 2,
   "metadata": {},
   "outputs": [],
   "source": [
    "pool = Pool(4)"
   ]
  },
  {
   "cell_type": "code",
   "execution_count": 3,
   "metadata": {
    "scrolled": true
   },
   "outputs": [
    {
     "ename": "NameError",
     "evalue": "name 'g0' is not defined",
     "output_type": "error",
     "traceback": [
      "\u001b[0;31m---------------------------------------------------------------------------\u001b[0m",
      "\u001b[0;31mNameError\u001b[0m                                 Traceback (most recent call last)",
      "\u001b[0;32m<ipython-input-3-65293871d015>\u001b[0m in \u001b[0;36m<module>\u001b[0;34m\u001b[0m\n\u001b[0;32m----> 1\u001b[0;31m \u001b[0mprint\u001b[0m\u001b[0;34m(\u001b[0m\u001b[0;34mf\"g0: {g0}\\no0: {o0} \\nka: {ka}\"\u001b[0m\u001b[0;34m)\u001b[0m\u001b[0;34m\u001b[0m\u001b[0;34m\u001b[0m\u001b[0m\n\u001b[0m",
      "\u001b[0;31mNameError\u001b[0m: name 'g0' is not defined"
     ]
    }
   ],
   "source": [
    "print(f\"g0: {g0}\\no0: {o0} \\nka: {ka}\")"
   ]
  },
  {
   "cell_type": "code",
   "execution_count": null,
   "metadata": {},
   "outputs": [],
   "source": [
    "# rotating\n",
    "g0 = 100\n",
    "ka = 0.1\n",
    "b = 1\n",
    "o0 = 20"
   ]
  },
  {
   "cell_type": "code",
   "execution_count": 8,
   "metadata": {},
   "outputs": [],
   "source": [
    "# fixed\n",
    "g0 = 100\n",
    "ka = 4\n",
    "b = 1\n",
    "o0 = 1"
   ]
  },
  {
   "cell_type": "code",
   "execution_count": null,
   "metadata": {},
   "outputs": [],
   "source": [
    "# rotating\n",
    "alpha=0.03\n",
    "beta = 0.2\n",
    "ka = g0 * alpha**2;o0 = g0 * beta\n",
    "g0 = 100;\n",
    "b = 1"
   ]
  },
  {
   "cell_type": "code",
   "execution_count": 6,
   "metadata": {},
   "outputs": [],
   "source": [
    "# fixed\n",
    "alpha=0.2\n",
    "beta = 0.01\n",
    "ka = g0 * alpha**2;o0 = g0 * beta\n",
    "g0 = 100;\n",
    "b = 1"
   ]
  },
  {
   "cell_type": "code",
   "execution_count": 9,
   "metadata": {},
   "outputs": [
    {
     "name": "stdout",
     "output_type": "stream",
     "text": [
      "g0 ka + o0^2 = 401 >> 1 = o0**2   \t ratio: 401\n",
      "g0 ka + o0^2 = 401 >> 16.000 = ka**2   \t ratio: 25\n",
      "g0 ka/o0^2 = 400.0 \n",
      "relaxation time (rotating): 0.501\n",
      "relaxation time (fixed):    100.25\n"
     ]
    }
   ],
   "source": [
    "den = (g0*ka+o0**2)\n",
    "print(f\"g0 ka + o0^2 = {den} >> {o0**2} = o0**2   \\t ratio: {den//o0**2}\")\n",
    "print(f\"g0 ka + o0^2 = {den} >> {ka**2:0.3f} = ka**2   \\t ratio: {den//ka**2}\")\n",
    "print(f\"g0 ka/o0^2 = {g0*ka/o0**2} \")\n",
    "relaxation_time = (g0*ka + o0**2) * max([2/ka**2/g0, 1/ka*o0**2])\n",
    "print(f\"relaxation time (rotating): {2/(ka**2*g0)*den:0.3f}\")\n",
    "print(f\"relaxation time (fixed):    {1/(ka*o0**2)*den}\")"
   ]
  },
  {
   "cell_type": "code",
   "execution_count": null,
   "metadata": {},
   "outputs": [],
   "source": []
  },
  {
   "cell_type": "code",
   "execution_count": 10,
   "metadata": {},
   "outputs": [
    {
     "data": {
      "text/plain": [
       "1.4901161193847656"
      ]
     },
     "execution_count": 10,
     "metadata": {},
     "output_type": "execute_result"
    }
   ],
   "source": [
    "N=5000000\n",
    "warmup=0\n",
    "dt=0.001\n",
    "samples=5\n",
    "skip=1\n",
    "runs=4\n",
    "time = np.linspace(0,N//skip *dt, N//skip)\n",
    "\n",
    "R,S,H,_ = get_RSH_harmonic_onlyka(o0**2,g0,b,ka)\n",
    "\n",
    "(len([1]) * N * runs * samples *4 // skip) * 4 / 1024**3"
   ]
  },
  {
   "cell_type": "code",
   "execution_count": 11,
   "metadata": {},
   "outputs": [
    {
     "data": {
      "text/plain": [
       "(6, 20, 5000000)"
      ]
     },
     "execution_count": 11,
     "metadata": {},
     "output_type": "execute_result"
    }
   ],
   "source": [
    "sigma = get_cov(np.array([R]), np.array([S]), np.array([H]))\n",
    "\n",
    "x0,y0,vx0,vy0 = np.random.multivariate_normal(\n",
    "    [0,0,0,0], 0*sigma[...,0], samples).T\n",
    "kwargs = dict(x0=x0,y0=y0,vx0=vx0,vy0=vy0,\n",
    "    N=N, samples=samples,\n",
    "    dt=dt, warmup=warmup, skip=skip,\n",
    "    omega0=o0,\n",
    "    gamma0=g0,b=b, kappa=ka)\n",
    "result = simulate_2d_only_memory(pool,runs,**kwargs)\n",
    "\n",
    "result = np.array(result); result.shape"
   ]
  },
  {
   "cell_type": "markdown",
   "metadata": {},
   "source": [
    "### Start Analisys"
   ]
  },
  {
   "cell_type": "code",
   "execution_count": null,
   "metadata": {},
   "outputs": [],
   "source": [
    "cov_all = np.einsum(\"akj,bkj->jab\", result[:4,:,:],result[:4,:,:],optimize=True)/(result.shape[1]-1)\n",
    "# cov = cov[df[df.b].index]\n",
    "\n",
    "cov=cov_all[:]"
   ]
  },
  {
   "cell_type": "code",
   "execution_count": null,
   "metadata": {},
   "outputs": [],
   "source": [
    "sp = 1000\n",
    "cov_R = cov[::sp,(0,1),(0,1)].transpose(0,1).reshape(-1,2)\n",
    "cov_S = cov[::sp,(2,3),(2,3)].transpose(0,1).reshape(-1, 2)\n",
    "cov_H = cov[::sp,(0,1,2,3),(3,2,1,0)].transpose(0,1).reshape(-1, 4)\n",
    "cov_Z = cov[::sp,(0,0,1,1,2,2,3,3),(1,2,0,3,0,3,1,2)].transpose(0,1).reshape(-1, 8)"
   ]
  },
  {
   "cell_type": "code",
   "execution_count": null,
   "metadata": {
    "scrolled": false
   },
   "outputs": [],
   "source": [
    "plt.figure(figsize=(14,8))\n",
    "plt.subplot(2,2,1)\n",
    "plt.plot(cov_R, alpha=0.2);\n",
    "plt.subplot(2,2,2)\n",
    "plt.plot(cov_S, alpha=0.2);\n",
    "plt.subplot(2,2,3)\n",
    "plt.plot(cov_H, alpha=0.2);\n",
    "plt.subplot(2,2,4)\n",
    "plt.plot(cov_Z, alpha=0.2);"
   ]
  },
  {
   "cell_type": "code",
   "execution_count": null,
   "metadata": {},
   "outputs": [],
   "source": [
    "stationari_treshold = 3000*sp"
   ]
  },
  {
   "cell_type": "code",
   "execution_count": null,
   "metadata": {},
   "outputs": [],
   "source": [
    "result.shape"
   ]
  },
  {
   "cell_type": "code",
   "execution_count": null,
   "metadata": {},
   "outputs": [],
   "source": [
    "x,y,vx,vy,_,_ = result[:,:,stationari_treshold:]"
   ]
  },
  {
   "cell_type": "code",
   "execution_count": null,
   "metadata": {},
   "outputs": [],
   "source": [
    "start = 0*100\n",
    "rang  = 3*int(2*3.14*1000*den**-0.5)\n",
    "path = 1\n",
    "factor = 2.5"
   ]
  },
  {
   "cell_type": "code",
   "execution_count": null,
   "metadata": {},
   "outputs": [],
   "source": [
    "axs = plt.subplots(5,2, figsize=(5,20))[1].flatten()\n",
    "for path, ax in enumerate(axs):\n",
    "    path+=10\n",
    "    cm = plt.get_cmap(\"Greys\")\n",
    "    for i in range(rang-1):\n",
    "        ax.plot(x[path][start:][i:i+2],y[path][start:][i:i+2],  c=cm(0.2+0.8*i/rang))\n",
    "        ax.set_aspect(\"equal\")\n",
    "        ax.set_xlim(-factor*R**0.5,factor*R**0.5)\n",
    "        ax.set_ylim(-factor*R**0.5,factor*R**0.5)        "
   ]
  },
  {
   "cell_type": "markdown",
   "metadata": {},
   "source": [
    "##### Plots for rotation regime"
   ]
  },
  {
   "cell_type": "raw",
   "metadata": {},
   "source": [
    "np.save(\"data_for_rotating_plot\",[x,y])"
   ]
  },
  {
   "cell_type": "raw",
   "metadata": {},
   "source": [
    "\n",
    "ins = plt.gca().inset_axes([0.55,0.2,0.1,0.5])\n",
    "ins.set_xticks([])\n",
    "ins.set_yticks([])\n",
    "r = np.linspace(-15,15,100)\n",
    "ins.plot(r, U_2(0.5,B, 0,0,0, r, np.zeros_like(r)), c=\"k\");\n",
    "plt.figure(figsize=(10,10), dpi=100)\n",
    "\n",
    "plt.subplot(121)\n",
    "ax = plt.gca()\n",
    "start = 0\n",
    "for i in range(rang-1):\n",
    "    path=12;ax.plot(-y[path][start:][i:i+2]/R**0.5,x[path][start:][i:i+2]/R**0.5,  c=cm(0.3+0.7*i/rang))\n",
    "ax.set_yticks([-2,-1,0,1,2])\n",
    "ax.set_xticks([-2,-1,0,1,2]);\n",
    "ax.set_aspect(\"equal\")\n",
    "plt.grid()\n",
    "plt.xlim(-2.1,2.1)\n",
    "plt.ylim(-3.5,3.5)\n",
    "\n",
    "\n",
    "plt.subplot(122)\n",
    "ax = plt.gca()\n",
    "start = rang*2-0*400\n",
    "for i in range(rang-1):\n",
    "    path=13;ax.plot(-y[path][start:][i:i+2]/R**0.5,x[path][start:][i:i+2]/R**0.5,  c=cm(0.3+0.7*i/rang))\n",
    "ax.set_yticks([-2,-1,0,1,2])\n",
    "ax.set_xticks([-2,-1,0,1,2]);\n",
    "ax.set_aspect(\"equal\")\n",
    "plt.xlim(-2.1,2.1)\n",
    "plt.ylim(-3.5,3.5)\n",
    "\n",
    "plt.grid()\n",
    "\n",
    "    \n",
    "    \n",
    "plt.savefig(\"rotating paths (g0=100, ka=0.1, o0=20).pdf\",  bbox_inches = 'tight',\n",
    "    pad_inches = 0.08)"
   ]
  },
  {
   "cell_type": "code",
   "execution_count": null,
   "metadata": {},
   "outputs": [],
   "source": []
  },
  {
   "cell_type": "code",
   "execution_count": null,
   "metadata": {},
   "outputs": [],
   "source": []
  },
  {
   "cell_type": "code",
   "execution_count": null,
   "metadata": {},
   "outputs": [],
   "source": []
  },
  {
   "cell_type": "markdown",
   "metadata": {},
   "source": [
    "##### Plots for fixed regime"
   ]
  },
  {
   "cell_type": "raw",
   "metadata": {},
   "source": [
    "np.save(\"data_for_fixed_plot\",[x,y])"
   ]
  },
  {
   "cell_type": "raw",
   "metadata": {},
   "source": [
    "plt.figure(figsize=(10,10), dpi=100)\n",
    "ax = plt.gca()\n",
    "for i in range(rang-1):\n",
    "    path=0;ax.plot(x[path][start:][i:i+2]/R**0.5,y[path][start:][i:i+2]/R**0.5,  c=cm(0.2+0.8*i/rang))\n",
    "    path=3;ax.plot(x[path][start:][i:i+2]/R**0.5,y[path][start:][i:i+2]/R**0.5,  c=cm(0.2+0.8*i/rang))\n",
    "    path=5;ax.plot(x[path][start:][i:i+2]/R**0.5,y[path][start:][i:i+2]/R**0.5,  c=cm(0.2+0.8*i/rang))\n",
    "    path=8;ax.plot(x[path][start:][i:i+2]/R**0.5,y[path][start:][i:i+2]/R**0.5,  c=cm(0.2+0.8*i/rang))\n",
    "    path=11;ax.plot(x[path][start:][i:i+2]/R**0.5,y[path][start:][i:i+2]/R**0.5,  c=cm(0.2+0.8*i/rang))\n",
    "    \n",
    "    \n",
    "    \n",
    "ax.set_aspect(\"equal\")\n",
    "ax.set_xlim(-0.88*factor*1,0.78*factor*1)\n",
    "ax.set_ylim(-0.8*factor*1,factor*1)   \n",
    "\n",
    "# ax.set_yticklabels([])\n",
    "# ax.set_xticklabels([])\n",
    "ax.set_yticks([-2,-1,0,1,2])\n",
    "ax.set_xticks([-2,-1,0,1,2]);\n",
    "plt.grid()\n",
    "plt.savefig(\"nonrotating paths (g0=100, ka=4, o0=1).pdf\",  bbox_inches = 'tight',\n",
    "    pad_inches = 0.08)"
   ]
  },
  {
   "cell_type": "code",
   "execution_count": null,
   "metadata": {},
   "outputs": [],
   "source": []
  },
  {
   "cell_type": "code",
   "execution_count": null,
   "metadata": {},
   "outputs": [],
   "source": [
    "cm(0.1)"
   ]
  },
  {
   "cell_type": "code",
   "execution_count": null,
   "metadata": {},
   "outputs": [],
   "source": [
    "cm.from_list([1,2,3])"
   ]
  },
  {
   "cell_type": "code",
   "execution_count": null,
   "metadata": {},
   "outputs": [],
   "source": [
    "plt.scatter(x[path][start:][:rang],y[path][start:][:rang], c=cm(0.2+0.8*i/rang))"
   ]
  },
  {
   "cell_type": "code",
   "execution_count": null,
   "metadata": {},
   "outputs": [],
   "source": [
    "df[\"Rx\"], df[\"Rx_err\"]= mean_with_err(Rx,axis=-1)\n",
    "df[\"Ry\"], df[\"Ry_err\"]= mean_with_err(Ry,axis=-1)\n",
    "df[\"Sx\"], df[\"Sx_err\"]= mean_with_err(Sx,axis=-1)\n",
    "df[\"Sy\"], df[\"Sy_err\"]= mean_with_err(Sy,axis=-1)\n",
    "df[\"Hx\"], df[\"Hx_err\"]= mean_with_err(Hx,axis=-1)\n",
    "df[\"Hy\"], df[\"Hy_err\"]= mean_with_err(Hy,axis=-1)\n",
    "\n",
    "# df[\"Rx\"], df[\"Rx_err\"]= mean_with_err(Rx,axis=-1)\n"
   ]
  },
  {
   "cell_type": "code",
   "execution_count": null,
   "metadata": {},
   "outputs": [],
   "source": [
    "gb=df.groupby([\"A\",\"B\",\"C\",\"D\",\"F\"])\n",
    "\n",
    "plt.figure(figsize=(10,7), dpi=150)\n",
    "plt.title(\"H vs b\")\n",
    "plt.xlabel(\"b\");plt.ylabel(\"H\")\n",
    "plt.plot(bs_expected, H_expected,ls=(0, (5, 10)), label=\"harmonic (theory)\")\n",
    "for key in gb.groups:\n",
    "    gp = gb.get_group(key)\n",
    "#     plt.plot(gp.b, gp.Hx)\n",
    "    plt.errorbar(gp.b, gp.Hx, yerr=gp.Hx_err, capsize=7, marker=\"o\", ls=\"none\", \n",
    "                 label=f\"A: {gp.A.mean():0.2f} B: {gp.B.mean():0.2f} C: {gp.C.mean():0.2f}\")\n",
    "# plt.xlim(-1,5)\n",
    "# plt.ylim(-4,1)\n",
    "plt.legend()"
   ]
  },
  {
   "cell_type": "code",
   "execution_count": null,
   "metadata": {},
   "outputs": [],
   "source": [
    "gb=df.groupby([\"A\",\"B\",\"C\",\"D\",\"F\"])\n",
    "\n",
    "plt.figure(figsize=(10,7), dpi=150)\n",
    "plt.subplot(121)\n",
    "plt.title(\"R vs b\")\n",
    "plt.xlabel(\"b\");plt.ylabel(\"R\")\n",
    "# plt.plot(*zip(*[(b, get_RSH(-7, 0,100,b,10)[0]) for b in np.linspace(min(bs), max(bs))]),ls=(0, (5, 10)), label=\"harmonic (theory)\")\n",
    "for key in gb.groups:\n",
    "    gp = gb.get_group(key)\n",
    "#     plt.plot(gp.b, gp.Hx)\n",
    "    plt.errorbar(gp.b, gp.Rx, yerr=gp.Rx_err, capsize=7, marker=\"o\", ls=\"none\", \n",
    "                label=f\"A: {gp.A.mean():0.2f} B: {gp.B.mean():0.2f} C: {gp.C.mean():0.2f}\")\n",
    "plt.minorticks_on()\n",
    "plt.legend()\n",
    "\n",
    "plt.subplot(122)\n",
    "plt.title(\"S vs b\")\n",
    "plt.xlabel(\"b\");plt.ylabel(\"S\")\n",
    "plt.plot(bs_expected, bs_expected**2/2/0.3+5)\n",
    "# plt.plot(*zip(*[(b, get_RSH(-7, 0,100,b,10)[1]) for b in np.linspace(min(bs), max(bs))]),ls=(0, (5, 10)), label=\"harmonic (theory)\")\n",
    "for key in gb.groups:\n",
    "    gp = gb.get_group(key)\n",
    "#     plt.plot(gp.b, gp.Hx)\n",
    "    plt.errorbar(gp.b, gp.Sx, yerr=gp.Sx_err, capsize=7, marker=\"o\", ls=\"none\", \n",
    "                label=f\"A: {gp.A.mean():0.2f} B: {gp.B.mean():0.2f} C: {gp.C.mean():0.2f}\")\n",
    "plt.legend()"
   ]
  },
  {
   "cell_type": "markdown",
   "metadata": {},
   "source": [
    "## xry analysis"
   ]
  },
  {
   "cell_type": "code",
   "execution_count": null,
   "metadata": {},
   "outputs": [],
   "source": [
    "res = results[...,stationari_treshold::]\n",
    "\n",
    "uxs, uys = [], []\n",
    "for row in df.itertuples():\n",
    "    ux, uy = Uxy_2(row.A, row.B, row.C, row.D, row.F, res[row.Index,0].flatten(),res[row.Index,1].flatten() )\n",
    "    uxs.append(ux.reshape(res.shape[2], res.shape[3]))\n",
    "    uys.append(uy.reshape(res.shape[2], res.shape[3]))\n",
    "\n",
    "uxs=np.array(uxs)\n",
    "uys=np.array(uys)\n",
    "\n",
    "xry= res[:,0] * res[:,5]\n",
    "yrx= res[:,1] * res[:,4]\n",
    "\n",
    "uxry= uxs*res[:,5]\n",
    "uyrx= uys*res[:,4]"
   ]
  },
  {
   "cell_type": "code",
   "execution_count": null,
   "metadata": {},
   "outputs": [],
   "source": [
    "xry.shape"
   ]
  },
  {
   "cell_type": "code",
   "execution_count": null,
   "metadata": {},
   "outputs": [],
   "source": [
    "df[\"xry\"], df[\"xry_err\"]=mean_with_err(xry.reshape(xry.shape[0],-1), axis=1)\n",
    "df[\"uxry\"], df[\"uxry_err\"]=mean_with_err(uxry.reshape(uxry.shape[0],-1), axis=1)"
   ]
  },
  {
   "cell_type": "code",
   "execution_count": null,
   "metadata": {},
   "outputs": [],
   "source": [
    "gb=df.groupby([\"A\",\"B\",\"C\",\"D\",\"F\"])\n",
    "\n",
    "plt.figure(figsize=(15,10), dpi=150)\n",
    "plt.title(\"xry vs b\")\n",
    "plt.xlabel(\"b\");plt.ylabel(\"xry\")\n",
    "# plt.plot(bs_expected, H_expected,ls=(0, (5, 10)), label=\"harmonic (theory)\")\n",
    "for key in gb.groups:\n",
    "    gp = gb.get_group(key)\n",
    "#     plt.plot(gp.b, gp.Hx)\n",
    "    plt.errorbar(gp.b, gp.xry, yerr=gp.xry_err, capsize=7, marker=\"o\", ls=\"none\", \n",
    "                 label=f\"A: {gp.A.mean():0.2f} B: {gp.B.mean():0.2f} C: {gp.C.mean():0.2f}\")\n",
    "plt.grid()\n",
    "# plt.xlim(-1,5)\n",
    "# plt.ylim(-4,1)\n",
    "plt.legend()"
   ]
  },
  {
   "cell_type": "code",
   "execution_count": null,
   "metadata": {
    "scrolled": false
   },
   "outputs": [],
   "source": [
    "gb=df.groupby([\"A\",\"B\",\"C\",\"D\",\"F\"])\n",
    "\n",
    "plt.figure(figsize=(15,10), dpi=150)\n",
    "plt.title(\"uxry vs b\")\n",
    "plt.xlabel(\"b\");plt.ylabel(\"uxry\")\n",
    "# plt.plot(bs_expected, H_expected,ls=(0, (5, 10)), label=\"harmonic (theory)\")\n",
    "for key in gb.groups:\n",
    "    gp = gb.get_group(key)\n",
    "#     plt.plot(gp.b, gp.Hx)\n",
    "    plt.errorbar(gp.b, gp.uxry, yerr=gp.uxry_err, capsize=7, marker=\"o\", ls=\"none\", \n",
    "                 label=f\"A: {gp.A.mean():0.2f} B: {gp.B.mean():0.2f} C: {gp.C.mean():0.2f}\")\n",
    "plt.grid()\n",
    "# plt.xlim(-1,5)\n",
    "# plt.ylim(-4,1)\n",
    "plt.legend()"
   ]
  },
  {
   "cell_type": "code",
   "execution_count": null,
   "metadata": {},
   "outputs": [],
   "source": [
    "gp.g0.mean() * gp.ka.mean()**2"
   ]
  },
  {
   "cell_type": "code",
   "execution_count": null,
   "metadata": {},
   "outputs": [],
   "source": [
    "gb=df.groupby([\"A\",\"B\",\"C\",\"D\",\"F\"])\n",
    "\n",
    "plt.figure(figsize=(10,7), dpi=150)\n",
    "plt.title(\"H vs b\")\n",
    "plt.xlabel(\"b\");plt.ylabel(\"H\")\n",
    "plt.plot(bs_expected, H_expected,ls=(0, (5, 10)), label=\"harmonic (theory)\")\n",
    "for ii, key in enumerate(gb.groups):\n",
    "    \n",
    "    gp = gb.get_group(key)\n",
    "    \n",
    "    g0kasq=gp.g0.mean() * gp.ka.mean()**2\n",
    "#     plt.plot(gp.b, gp.Hx)\n",
    "    plt.errorbar(gp.b, gp.Hx, yerr=gp.Hx_err, capsize=7, marker=\"o\",color=COLORS[ii], ls=\"none\", \n",
    "                 label=f\"A: {gp.A.mean():0.2f} B: {gp.B.mean():0.2f} C: {gp.C.mean():0.2f}\")\n",
    "    \n",
    "    plt.errorbar(gp.b+0.1, gp.H + gp.uxry/g0kasq, yerr=gp.uxry_err/g0kasq, capsize=7,color=COLORS[ii], marker=\"s\", mfc=\"white\", ls=\"none\", \n",
    "                 label=f\"theoretical guess\")\n",
    "# plt.xlim(-1,5)\n",
    "# plt.ylim(-4,1)\n",
    "plt.legend()"
   ]
  },
  {
   "cell_type": "code",
   "execution_count": null,
   "metadata": {},
   "outputs": [],
   "source": [
    "plt.plot(xry)"
   ]
  }
 ],
 "metadata": {
  "kernelspec": {
   "display_name": "Python 3",
   "language": "python",
   "name": "python3"
  },
  "language_info": {
   "codemirror_mode": {
    "name": "ipython",
    "version": 3
   },
   "file_extension": ".py",
   "mimetype": "text/x-python",
   "name": "python",
   "nbconvert_exporter": "python",
   "pygments_lexer": "ipython3",
   "version": "3.8.3"
  }
 },
 "nbformat": 4,
 "nbformat_minor": 4
}

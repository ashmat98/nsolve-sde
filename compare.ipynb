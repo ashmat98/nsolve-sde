{
 "cells": [
  {
   "cell_type": "code",
   "execution_count": 1,
   "metadata": {},
   "outputs": [],
   "source": [
    "import numpy as np\n",
    "from matplotlib import pyplot as plt"
   ]
  },
  {
   "cell_type": "code",
   "execution_count": 2,
   "metadata": {},
   "outputs": [],
   "source": [
    "from nsdesolve import simulate_2d, add"
   ]
  },
  {
   "cell_type": "code",
   "execution_count": 3,
   "metadata": {},
   "outputs": [
    {
     "data": {
      "text/plain": [
       "7"
      ]
     },
     "execution_count": 3,
     "metadata": {},
     "output_type": "execute_result"
    }
   ],
   "source": [
    "add(3,4)"
   ]
  },
  {
   "cell_type": "code",
   "execution_count": 4,
   "metadata": {},
   "outputs": [],
   "source": [
    "def sample_xv(o0,g0,b,th,ka,\n",
    "  N=100,samples=1,dt=0.0001):\n",
    "    \n",
    "    def _one_step(rn_x, rn_y, x,y,vx,vy,rx,ry,ex,ey):\n",
    "        new_x = x + vx * dt\n",
    "        new_y = y + vy * dt\n",
    "        new_vx = vx +(-rx-o0**2*x + b * vy + ex)*dt\n",
    "        new_vy = vy +(-ry-o0**2*y - b * vx + ey)*dt\n",
    "        new_rx = rx + (- ka * rx + g0*ka*vx)*dt\n",
    "        new_ry = ry + (- ka * ry + g0*ka*vy)*dt\n",
    "        new_ex = ex + (-th * ex) * dt + np.sqrt(dt) * th * rn_x\n",
    "        new_ey = ey + (-th * ey) * dt + np.sqrt(dt) * th * rn_y\n",
    "        return new_x, new_y, new_vx, new_vy, new_rx, new_ry, new_ex, new_ey\n",
    "\n",
    "    states = [np.zeros((8,samples))]\n",
    "    for rn_x, rn_y in np.random.randn(N,2,samples):\n",
    "        states.append(np.array(_one_step(rn_x, rn_y, *states[-1])))\n",
    "        \n",
    "    return np.array(states)\n"
   ]
  },
  {
   "cell_type": "code",
   "execution_count": 5,
   "metadata": {},
   "outputs": [],
   "source": [
    "o0=1.0\n",
    "g0=10.0\n",
    "b=+0.01\n",
    "samples = 100\n",
    "th=100.0\n",
    "ka=0.1"
   ]
  },
  {
   "cell_type": "code",
   "execution_count": null,
   "metadata": {},
   "outputs": [],
   "source": [
    "%%timeit\n",
    "states = sample_xv(o0=o0,g0=g0,b=b,th=th,ka=ka,\n",
    "    N=10000,\n",
    "    samples=100,\n",
    "    dt=0.0001\n",
    ")"
   ]
  },
  {
   "cell_type": "code",
   "execution_count": 8,
   "metadata": {},
   "outputs": [
    {
     "name": "stdout",
     "output_type": "stream",
     "text": [
      "81.9 ms ± 591 µs per loop (mean ± std. dev. of 7 runs, 10 loops each)\n"
     ]
    }
   ],
   "source": [
    "%%timeit\n",
    "ret = simulate_2d(\n",
    "    np.zeros(samples),np.zeros(samples),np.zeros(samples),np.zeros(samples),\n",
    "    N=10000, samples=samples,\n",
    "    dt=0.0001,\n",
    "    omega0=o0,gamma0=g0,kappa=ka, theta=th,b=b\n",
    ")"
   ]
  },
  {
   "cell_type": "code",
   "execution_count": null,
   "metadata": {},
   "outputs": [],
   "source": []
  },
  {
   "cell_type": "code",
   "execution_count": 6,
   "metadata": {},
   "outputs": [],
   "source": [
    "ret = simulate_2d(\n",
    "        np.zeros(samples),np.zeros(samples),np.zeros(samples),np.zeros(samples),\n",
    "    N=5000, skip=10, samples=100,\n",
    "    dt=0.00001,\n",
    "    omega0=o0,gamma0=g0,kappa=ka, theta=th,b=b\n",
    ")"
   ]
  },
  {
   "cell_type": "code",
   "execution_count": null,
   "metadata": {},
   "outputs": [],
   "source": [
    "ret[0].size*8*64/8/1024/1024"
   ]
  },
  {
   "cell_type": "code",
   "execution_count": null,
   "metadata": {},
   "outputs": [],
   "source": [
    "del ret"
   ]
  },
  {
   "cell_type": "code",
   "execution_count": null,
   "metadata": {},
   "outputs": [],
   "source": [
    "\"123\""
   ]
  },
  {
   "cell_type": "code",
   "execution_count": null,
   "metadata": {},
   "outputs": [],
   "source": [
    "states = sample_xv(o0=o0,g0=g0,b=b,th=th,ka=ka,\n",
    "    N=10000,\n",
    "    samples=100,\n",
    "    dt=0.0001\n",
    ")"
   ]
  },
  {
   "cell_type": "code",
   "execution_count": null,
   "metadata": {},
   "outputs": [],
   "source": [
    "ret[0].shape"
   ]
  },
  {
   "cell_type": "code",
   "execution_count": null,
   "metadata": {},
   "outputs": [],
   "source": [
    "plt.plot(states[:,0,0])"
   ]
  },
  {
   "cell_type": "code",
   "execution_count": null,
   "metadata": {},
   "outputs": [],
   "source": [
    "plt.plot(ret[0][0])"
   ]
  },
  {
   "cell_type": "code",
   "execution_count": null,
   "metadata": {},
   "outputs": [],
   "source": []
  }
 ],
 "metadata": {
  "kernelspec": {
   "display_name": "Python 3",
   "language": "python",
   "name": "python3"
  },
  "language_info": {
   "codemirror_mode": {
    "name": "ipython",
    "version": 3
   },
   "file_extension": ".py",
   "mimetype": "text/x-python",
   "name": "python",
   "nbconvert_exporter": "python",
   "pygments_lexer": "ipython3",
   "version": "3.7.3"
  }
 },
 "nbformat": 4,
 "nbformat_minor": 4
}

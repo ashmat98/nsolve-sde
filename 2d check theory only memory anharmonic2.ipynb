{
 "cells": [
  {
   "cell_type": "code",
   "execution_count": 1,
   "metadata": {},
   "outputs": [],
   "source": [
    "import numpy as np\n",
    "from matplotlib import pyplot as plt\n",
    "\n",
    "from warper import simulate_2d_only_memory, simulate_2d_only_memory_anharmonic_2\n",
    "\n",
    "from multiprocessing import Pool\n",
    "\n",
    "import os, pickle\n",
    "from tqdm.notebook import tqdm\n",
    "\n",
    "import pandas as pd"
   ]
  },
  {
   "cell_type": "code",
   "execution_count": 2,
   "metadata": {},
   "outputs": [],
   "source": [
    "%matplotlib qt"
   ]
  },
  {
   "cell_type": "code",
   "execution_count": 3,
   "metadata": {},
   "outputs": [],
   "source": [
    "pool = Pool(4)"
   ]
  },
  {
   "cell_type": "code",
   "execution_count": 4,
   "metadata": {},
   "outputs": [],
   "source": [
    "def get_RSH(A,B,g0,b,ka):\n",
    "    o0 = np.sqrt(-A)\n",
    "    mu = ka\n",
    "    S = 1/g0/2/ka**2*(ka**2+o0**2+g0*ka+b**2)\n",
    "    R = 1/g0/2/o0**2/ka**2 * (o0**2+ka**2)\n",
    "    H = - 1/2/g0/ka**2*b\n",
    "    return R,S,H, 2*(R*S+H**2)\n",
    "\n",
    "def mean_with_err(arr, axis):\n",
    "    return arr.mean(axis=axis), arr.std(axis=axis)/np.sqrt(arr.shape[axis])"
   ]
  },
  {
   "cell_type": "code",
   "execution_count": 5,
   "metadata": {},
   "outputs": [],
   "source": [
    "# params - A,B,C,D,F,g0,b,ka\n",
    "\n",
    "params = [\n",
    "#     (-1,0,1,0,1),\n",
    "#     (-1,0,1,1,1),\n",
    "#     (-1,0,1,2,1),\n",
    "#     (-1,0,1,3,1),\n",
    "    \n",
    "#     (-1,0.5,1,0,1),\n",
    "#     (-1,0.5,1,1,1),\n",
    "#     (-1,0.5,1,2,1),\n",
    "#     (-1,0.5,1,3,1),\n",
    "    \n",
    "#     (3,0.4,1,0,1),\n",
    "#     (3,0.4,1,1,1),\n",
    "#     (3,0.4,1,2,1),\n",
    "#     (3,0.4,1,3,1),\n",
    "\n",
    "]\n",
    "\n",
    "bs =  (0,1,2,3,4,5,6,8,10)#,12,14,16,18,20,22,24,26,28,30)\n",
    "bs =  (0,3,6,10)#,12,14,16,18,20,22,24,26,28,30)\n",
    "params += [(-1,0,0,0,0,1,b,1) for b in bs]\n",
    "params += [(3,0.4,0,0,0,1,b,1) for b in bs]\n",
    "params += [(2,0.14,0,0,0,1,b,1) for b in bs]\n",
    "\n",
    "df = pd.DataFrame(params, columns=[\"A\",\"B\",\"C\",\"D\",\"F\",\"g0\",\"b\",\"ka\"])"
   ]
  },
  {
   "cell_type": "code",
   "execution_count": 6,
   "metadata": {},
   "outputs": [
    {
     "name": "stderr",
     "output_type": "stream",
     "text": [
      "<ipython-input-4-fd8d9f319383>:2: RuntimeWarning: invalid value encountered in sqrt\n",
      "  o0 = np.sqrt(-A)\n"
     ]
    }
   ],
   "source": [
    "def f(row):\n",
    "    return pd.Series(get_RSH(row.A, row.B, row.g0, row.b, row.ka),index=(\"R\",\"S\",\"H\",\"varL\"))\n",
    "df = pd.concat([df, df.apply(f, axis=1)], axis=1, sort=False)"
   ]
  },
  {
   "cell_type": "code",
   "execution_count": 7,
   "metadata": {},
   "outputs": [
    {
     "data": {
      "text/html": [
       "<div>\n",
       "<style scoped>\n",
       "    .dataframe tbody tr th:only-of-type {\n",
       "        vertical-align: middle;\n",
       "    }\n",
       "\n",
       "    .dataframe tbody tr th {\n",
       "        vertical-align: top;\n",
       "    }\n",
       "\n",
       "    .dataframe thead th {\n",
       "        text-align: right;\n",
       "    }\n",
       "</style>\n",
       "<table border=\"1\" class=\"dataframe\">\n",
       "  <thead>\n",
       "    <tr style=\"text-align: right;\">\n",
       "      <th></th>\n",
       "      <th>A</th>\n",
       "      <th>B</th>\n",
       "      <th>C</th>\n",
       "      <th>D</th>\n",
       "      <th>F</th>\n",
       "      <th>g0</th>\n",
       "      <th>b</th>\n",
       "      <th>ka</th>\n",
       "      <th>R</th>\n",
       "      <th>S</th>\n",
       "      <th>H</th>\n",
       "      <th>varL</th>\n",
       "    </tr>\n",
       "  </thead>\n",
       "  <tbody>\n",
       "    <tr>\n",
       "      <th>0</th>\n",
       "      <td>-1</td>\n",
       "      <td>0.00</td>\n",
       "      <td>0</td>\n",
       "      <td>0</td>\n",
       "      <td>0</td>\n",
       "      <td>1</td>\n",
       "      <td>0</td>\n",
       "      <td>1</td>\n",
       "      <td>1.0</td>\n",
       "      <td>1.5</td>\n",
       "      <td>-0.0</td>\n",
       "      <td>3.0</td>\n",
       "    </tr>\n",
       "    <tr>\n",
       "      <th>1</th>\n",
       "      <td>-1</td>\n",
       "      <td>0.00</td>\n",
       "      <td>0</td>\n",
       "      <td>0</td>\n",
       "      <td>0</td>\n",
       "      <td>1</td>\n",
       "      <td>3</td>\n",
       "      <td>1</td>\n",
       "      <td>1.0</td>\n",
       "      <td>6.0</td>\n",
       "      <td>-1.5</td>\n",
       "      <td>16.5</td>\n",
       "    </tr>\n",
       "    <tr>\n",
       "      <th>2</th>\n",
       "      <td>-1</td>\n",
       "      <td>0.00</td>\n",
       "      <td>0</td>\n",
       "      <td>0</td>\n",
       "      <td>0</td>\n",
       "      <td>1</td>\n",
       "      <td>6</td>\n",
       "      <td>1</td>\n",
       "      <td>1.0</td>\n",
       "      <td>19.5</td>\n",
       "      <td>-3.0</td>\n",
       "      <td>57.0</td>\n",
       "    </tr>\n",
       "    <tr>\n",
       "      <th>3</th>\n",
       "      <td>-1</td>\n",
       "      <td>0.00</td>\n",
       "      <td>0</td>\n",
       "      <td>0</td>\n",
       "      <td>0</td>\n",
       "      <td>1</td>\n",
       "      <td>10</td>\n",
       "      <td>1</td>\n",
       "      <td>1.0</td>\n",
       "      <td>51.5</td>\n",
       "      <td>-5.0</td>\n",
       "      <td>153.0</td>\n",
       "    </tr>\n",
       "    <tr>\n",
       "      <th>4</th>\n",
       "      <td>3</td>\n",
       "      <td>0.40</td>\n",
       "      <td>0</td>\n",
       "      <td>0</td>\n",
       "      <td>0</td>\n",
       "      <td>1</td>\n",
       "      <td>0</td>\n",
       "      <td>1</td>\n",
       "      <td>NaN</td>\n",
       "      <td>NaN</td>\n",
       "      <td>-0.0</td>\n",
       "      <td>NaN</td>\n",
       "    </tr>\n",
       "    <tr>\n",
       "      <th>5</th>\n",
       "      <td>3</td>\n",
       "      <td>0.40</td>\n",
       "      <td>0</td>\n",
       "      <td>0</td>\n",
       "      <td>0</td>\n",
       "      <td>1</td>\n",
       "      <td>3</td>\n",
       "      <td>1</td>\n",
       "      <td>NaN</td>\n",
       "      <td>NaN</td>\n",
       "      <td>-1.5</td>\n",
       "      <td>NaN</td>\n",
       "    </tr>\n",
       "    <tr>\n",
       "      <th>6</th>\n",
       "      <td>3</td>\n",
       "      <td>0.40</td>\n",
       "      <td>0</td>\n",
       "      <td>0</td>\n",
       "      <td>0</td>\n",
       "      <td>1</td>\n",
       "      <td>6</td>\n",
       "      <td>1</td>\n",
       "      <td>NaN</td>\n",
       "      <td>NaN</td>\n",
       "      <td>-3.0</td>\n",
       "      <td>NaN</td>\n",
       "    </tr>\n",
       "    <tr>\n",
       "      <th>7</th>\n",
       "      <td>3</td>\n",
       "      <td>0.40</td>\n",
       "      <td>0</td>\n",
       "      <td>0</td>\n",
       "      <td>0</td>\n",
       "      <td>1</td>\n",
       "      <td>10</td>\n",
       "      <td>1</td>\n",
       "      <td>NaN</td>\n",
       "      <td>NaN</td>\n",
       "      <td>-5.0</td>\n",
       "      <td>NaN</td>\n",
       "    </tr>\n",
       "    <tr>\n",
       "      <th>8</th>\n",
       "      <td>2</td>\n",
       "      <td>0.14</td>\n",
       "      <td>0</td>\n",
       "      <td>0</td>\n",
       "      <td>0</td>\n",
       "      <td>1</td>\n",
       "      <td>0</td>\n",
       "      <td>1</td>\n",
       "      <td>NaN</td>\n",
       "      <td>NaN</td>\n",
       "      <td>-0.0</td>\n",
       "      <td>NaN</td>\n",
       "    </tr>\n",
       "    <tr>\n",
       "      <th>9</th>\n",
       "      <td>2</td>\n",
       "      <td>0.14</td>\n",
       "      <td>0</td>\n",
       "      <td>0</td>\n",
       "      <td>0</td>\n",
       "      <td>1</td>\n",
       "      <td>3</td>\n",
       "      <td>1</td>\n",
       "      <td>NaN</td>\n",
       "      <td>NaN</td>\n",
       "      <td>-1.5</td>\n",
       "      <td>NaN</td>\n",
       "    </tr>\n",
       "    <tr>\n",
       "      <th>10</th>\n",
       "      <td>2</td>\n",
       "      <td>0.14</td>\n",
       "      <td>0</td>\n",
       "      <td>0</td>\n",
       "      <td>0</td>\n",
       "      <td>1</td>\n",
       "      <td>6</td>\n",
       "      <td>1</td>\n",
       "      <td>NaN</td>\n",
       "      <td>NaN</td>\n",
       "      <td>-3.0</td>\n",
       "      <td>NaN</td>\n",
       "    </tr>\n",
       "    <tr>\n",
       "      <th>11</th>\n",
       "      <td>2</td>\n",
       "      <td>0.14</td>\n",
       "      <td>0</td>\n",
       "      <td>0</td>\n",
       "      <td>0</td>\n",
       "      <td>1</td>\n",
       "      <td>10</td>\n",
       "      <td>1</td>\n",
       "      <td>NaN</td>\n",
       "      <td>NaN</td>\n",
       "      <td>-5.0</td>\n",
       "      <td>NaN</td>\n",
       "    </tr>\n",
       "  </tbody>\n",
       "</table>\n",
       "</div>"
      ],
      "text/plain": [
       "    A     B  C  D  F  g0   b  ka    R     S    H   varL\n",
       "0  -1  0.00  0  0  0   1   0   1  1.0   1.5 -0.0    3.0\n",
       "1  -1  0.00  0  0  0   1   3   1  1.0   6.0 -1.5   16.5\n",
       "2  -1  0.00  0  0  0   1   6   1  1.0  19.5 -3.0   57.0\n",
       "3  -1  0.00  0  0  0   1  10   1  1.0  51.5 -5.0  153.0\n",
       "4   3  0.40  0  0  0   1   0   1  NaN   NaN -0.0    NaN\n",
       "5   3  0.40  0  0  0   1   3   1  NaN   NaN -1.5    NaN\n",
       "6   3  0.40  0  0  0   1   6   1  NaN   NaN -3.0    NaN\n",
       "7   3  0.40  0  0  0   1  10   1  NaN   NaN -5.0    NaN\n",
       "8   2  0.14  0  0  0   1   0   1  NaN   NaN -0.0    NaN\n",
       "9   2  0.14  0  0  0   1   3   1  NaN   NaN -1.5    NaN\n",
       "10  2  0.14  0  0  0   1   6   1  NaN   NaN -3.0    NaN\n",
       "11  2  0.14  0  0  0   1  10   1  NaN   NaN -5.0    NaN"
      ]
     },
     "execution_count": 7,
     "metadata": {},
     "output_type": "execute_result"
    }
   ],
   "source": [
    "df"
   ]
  },
  {
   "cell_type": "code",
   "execution_count": 8,
   "metadata": {},
   "outputs": [],
   "source": [
    "N=3000000\n",
    "warmup=0\n",
    "dt=0.001\n",
    "samples=100\n",
    "skip=500\n",
    "runs=4\n",
    "time = np.linspace(0,N//skip *dt, N//skip)\n",
    "\n",
    "dump_to_disk = False"
   ]
  },
  {
   "cell_type": "code",
   "execution_count": null,
   "metadata": {},
   "outputs": [
    {
     "data": {
      "application/vnd.jupyter.widget-view+json": {
       "model_id": "e833e364f03147c18d861ec417fa756a",
       "version_major": 2,
       "version_minor": 0
      },
      "text/plain": [
       "HBox(children=(FloatProgress(value=0.0, max=12.0), HTML(value='')))"
      ]
     },
     "metadata": {},
     "output_type": "display_data"
    }
   ],
   "source": [
    "results = []\n",
    "for row in tqdm(df.itertuples(), total=len(df)):\n",
    "#     if row.Index <40:\n",
    "#         continue\n",
    "    kwargs = dict(x0=np.zeros(samples),y0=np.zeros(samples),\n",
    "                  vx0=np.zeros(samples),vy0=np.zeros(samples),\n",
    "        N=N, samples=samples,\n",
    "        dt=dt, warmup=warmup, skip=skip,\n",
    "        A=row.A,B=row.B,C=row.C,D=row.D,F=row.F,\n",
    "        gamma0=row.g0,b=row.b, kappa=row.ka)\n",
    "    res = simulate_2d_only_memory_anharmonic_2(pool,runs,**kwargs)\n",
    "    if dump_to_disk:\n",
    "        np.save(f\"results/{row.Index}\", res)\n",
    "    else:\n",
    "        results.append(res[:4])"
   ]
  },
  {
   "cell_type": "code",
   "execution_count": null,
   "metadata": {},
   "outputs": [],
   "source": [
    "results = np.array(results)"
   ]
  },
  {
   "cell_type": "markdown",
   "metadata": {},
   "source": [
    "### Load dumped data"
   ]
  },
  {
   "cell_type": "code",
   "execution_count": null,
   "metadata": {},
   "outputs": [],
   "source": [
    "import os\n",
    "n_files = len(os.listdir(\"results\"))"
   ]
  },
  {
   "cell_type": "code",
   "execution_count": null,
   "metadata": {},
   "outputs": [],
   "source": [
    "np.load(\"results/1.npy\").shape"
   ]
  },
  {
   "cell_type": "code",
   "execution_count": null,
   "metadata": {},
   "outputs": [],
   "source": [
    "results = np.zeros((n_files, 4, 800, 5000))"
   ]
  },
  {
   "cell_type": "code",
   "execution_count": null,
   "metadata": {},
   "outputs": [],
   "source": [
    "for i in tqdm(range(n_files)):\n",
    "    results[i] = np.load(f\"results/{i}.npy\")[:4,:,-5000:]"
   ]
  },
  {
   "cell_type": "code",
   "execution_count": null,
   "metadata": {},
   "outputs": [],
   "source": [
    "results[:,:,:,:].shape"
   ]
  },
  {
   "cell_type": "markdown",
   "metadata": {},
   "source": [
    "### Start Analisys"
   ]
  },
  {
   "cell_type": "code",
   "execution_count": null,
   "metadata": {},
   "outputs": [],
   "source": [
    "cov = np.einsum(\"iakj,ibkj->ijab\", results[:,:4,:,:],results[:,:4,:,:],optimize=True)/(results.shape[2]-1)"
   ]
  },
  {
   "cell_type": "code",
   "execution_count": null,
   "metadata": {},
   "outputs": [],
   "source": [
    "cov.shape"
   ]
  },
  {
   "cell_type": "code",
   "execution_count": null,
   "metadata": {},
   "outputs": [],
   "source": [
    "plt.plot(cov.transpose(1,0,2,3).reshape(-1,cov.shape[0]*16)[::], alpha=0.2);\n",
    "# plt.plot(cov[5,:,1,2]);"
   ]
  },
  {
   "cell_type": "code",
   "execution_count": null,
   "metadata": {},
   "outputs": [],
   "source": [
    "stationari_treshold = 2000"
   ]
  },
  {
   "cell_type": "code",
   "execution_count": null,
   "metadata": {},
   "outputs": [],
   "source": [
    "results.shape"
   ]
  },
  {
   "cell_type": "code",
   "execution_count": null,
   "metadata": {},
   "outputs": [],
   "source": [
    "Rx,Ry, Sx, Sy = results[...,stationari_treshold:].var(axis=2).transpose(1,0,2)\n",
    "Lx = results[:,0] * results[:,3]\n",
    "Ly = results[:,1] * results[:,2]\n",
    "\n",
    "Hx = Lx.mean(axis=1)\n",
    "Hy = Ly.mean(axis=1)"
   ]
  },
  {
   "cell_type": "code",
   "execution_count": null,
   "metadata": {},
   "outputs": [],
   "source": [
    "df[\"Rx\"], df[\"Rx_err\"]= mean_with_err(Rx,axis=-1)\n",
    "df[\"Ry\"], df[\"Ry_err\"]= mean_with_err(Ry,axis=-1)\n",
    "df[\"Sx\"], df[\"Sx_err\"]= mean_with_err(Sx,axis=-1)\n",
    "df[\"Sy\"], df[\"Sy_err\"]= mean_with_err(Sy,axis=-1)\n",
    "df[\"Hx\"], df[\"Hx_err\"]= mean_with_err(Hx,axis=-1)\n",
    "df[\"Hy\"], df[\"Hy_err\"]= mean_with_err(Hy,axis=-1)\n",
    "\n",
    "# df[\"Rx\"], df[\"Rx_err\"]= mean_with_err(Rx,axis=-1)\n"
   ]
  },
  {
   "cell_type": "code",
   "execution_count": null,
   "metadata": {},
   "outputs": [],
   "source": [
    "df[sorted(df.columns)].round(4)"
   ]
  },
  {
   "cell_type": "code",
   "execution_count": null,
   "metadata": {},
   "outputs": [],
   "source": [
    "gb=df.groupby(\"B\")\n",
    "\n",
    "plt.figure(figsize=(10,7), dpi=150)\n",
    "plt.title(\"H vs b\")\n",
    "plt.xlabel(\"b\");plt.ylabel(\"H\")\n",
    "plt.plot(gb.get_group(0).b, gb.get_group(0).H, ls=(0, (5, 10)), label=\"harmonic\")\n",
    "for key in gb.groups:\n",
    "    gp = gb.get_group(key)\n",
    "#     plt.plot(gp.b, gp.Hx)\n",
    "    plt.errorbar(gp.b, gp.Hx, yerr=gp.Hx_err*10, capsize=7, marker=\"o\", ls=\"none\", label=f\"A: {gp.A.mean():0.3f} B: {gp.B.mean():0.3f}\")\n",
    "# plt.xlim(-1,5)\n",
    "# plt.ylim(-4,1)\n",
    "plt.legend()"
   ]
  },
  {
   "cell_type": "code",
   "execution_count": null,
   "metadata": {},
   "outputs": [],
   "source": [
    "gb=df.groupby(\"B\")\n",
    "\n",
    "plt.figure(figsize=(10,7), dpi=150)\n",
    "plt.subplot(121)\n",
    "plt.title(\"R vs b\")\n",
    "plt.xlabel(\"b\");plt.ylabel(\"R\")\n",
    "plt.plot(gb.get_group(0).b, gb.get_group(0).R, ls=(0, (5, 10)), label=\"harmonic\")\n",
    "for key in gb.groups:\n",
    "    gp = gb.get_group(key)\n",
    "#     plt.plot(gp.b, gp.Hx)\n",
    "    plt.errorbar(gp.b, gp.Rx, yerr=gp.Rx_err*10, capsize=7, marker=\"o\", ls=\"none\", label=f\"A: {gp.A.mean():0.3f} B: {gp.B.mean():0.3f}\")\n",
    "plt.legend()\n",
    "\n",
    "plt.subplot(122)\n",
    "plt.title(\"S vs b\")\n",
    "plt.xlabel(\"b\");plt.ylabel(\"S\")\n",
    "plt.plot(gb.get_group(0).b, gb.get_group(0).S, ls=(0, (5, 10)), label=\"harmonic\")\n",
    "for key in gb.groups:\n",
    "    gp = gb.get_group(key)\n",
    "#     plt.plot(gp.b, gp.Hx)\n",
    "    plt.errorbar(gp.b, gp.Sx, yerr=gp.Sx_err*10, capsize=7, marker=\"o\", ls=\"none\", label=f\"A: {gp.A.mean():0.3f} B: {gp.B.mean():0.3f}\")\n",
    "plt.legend()"
   ]
  },
  {
   "cell_type": "code",
   "execution_count": null,
   "metadata": {},
   "outputs": [],
   "source": [
    "gb.groups"
   ]
  },
  {
   "cell_type": "code",
   "execution_count": null,
   "metadata": {},
   "outputs": [],
   "source": [
    "dir(gb)"
   ]
  },
  {
   "cell_type": "code",
   "execution_count": null,
   "metadata": {},
   "outputs": [],
   "source": [
    "R_sample = results.var(axis=2)[:,0] \n",
    "S_sample = results.var(axis=2)[:,2]"
   ]
  },
  {
   "cell_type": "code",
   "execution_count": null,
   "metadata": {},
   "outputs": [],
   "source": [
    "L = (results[:,0] * results[:,3] - results[:,1] * results[:,2])\n",
    "H_sample = L.mean(axis=1)/2"
   ]
  },
  {
   "cell_type": "code",
   "execution_count": null,
   "metadata": {},
   "outputs": [],
   "source": [
    "H_sample.shape"
   ]
  },
  {
   "cell_type": "code",
   "execution_count": null,
   "metadata": {},
   "outputs": [],
   "source": [
    "H_sample[:,-3000:].mean(axis=1)"
   ]
  },
  {
   "cell_type": "code",
   "execution_count": null,
   "metadata": {},
   "outputs": [],
   "source": [
    "np.sqrt(H_sample[:,-3000:].var(axis=1)/3000)"
   ]
  },
  {
   "cell_type": "code",
   "execution_count": null,
   "metadata": {},
   "outputs": [],
   "source": [
    "H"
   ]
  },
  {
   "cell_type": "code",
   "execution_count": null,
   "metadata": {},
   "outputs": [],
   "source": [
    "plt.figure(figsize=(10,5))\n",
    "plt.subplot(131)\n",
    "plt.scatter(S, S_sample[..., -1])\n",
    "plt.subplot(132)\n",
    "plt.scatter(R, R_sample[..., -1])\n",
    "plt.subplot(133)\n",
    "plt.scatter(H, H_sample[..., -1])"
   ]
  },
  {
   "cell_type": "code",
   "execution_count": null,
   "metadata": {},
   "outputs": [],
   "source": [
    "results.shape"
   ]
  },
  {
   "cell_type": "code",
   "execution_count": null,
   "metadata": {},
   "outputs": [],
   "source": [
    "L.shape"
   ]
  },
  {
   "cell_type": "code",
   "execution_count": null,
   "metadata": {},
   "outputs": [],
   "source": [
    "# T = results[:,2,:,:]\n",
    "T = L/2\n",
    "hlines = H"
   ]
  },
  {
   "cell_type": "code",
   "execution_count": null,
   "metadata": {},
   "outputs": [],
   "source": [
    "T.shape[0]"
   ]
  },
  {
   "cell_type": "code",
   "execution_count": null,
   "metadata": {
    "scrolled": false
   },
   "outputs": [],
   "source": [
    "fig, axs = plt.subplots(1+T.shape[0]//2,2,figsize=(14,8),dpi=120)\n",
    "for ax, xi,h in zip(axs.flatten(),T[:,:,:], hlines):\n",
    "    ax.plot(time, xi.mean(axis=0))\n",
    "    ax.hlines(y=h, xmin=0, xmax=max(time), colors=\"r\")\n",
    "# plt.show()"
   ]
  },
  {
   "cell_type": "code",
   "execution_count": null,
   "metadata": {},
   "outputs": [],
   "source": [
    "L.shape"
   ]
  },
  {
   "cell_type": "code",
   "execution_count": null,
   "metadata": {},
   "outputs": [],
   "source": [
    "plt.hist(L[0,:,-1], bins=100);"
   ]
  },
  {
   "cell_type": "code",
   "execution_count": null,
   "metadata": {},
   "outputs": [],
   "source": [
    "L[1,:,-1].mean()"
   ]
  },
  {
   "cell_type": "code",
   "execution_count": null,
   "metadata": {},
   "outputs": [],
   "source": [
    "sorted(L[1,:,-1])[1600]"
   ]
  },
  {
   "cell_type": "code",
   "execution_count": null,
   "metadata": {},
   "outputs": [],
   "source": [
    "L.shape"
   ]
  },
  {
   "cell_type": "code",
   "execution_count": null,
   "metadata": {},
   "outputs": [],
   "source": [
    "plt.figure(figsize=(14,8))\n",
    "plt.plot(L[1,2,3000:])"
   ]
  },
  {
   "cell_type": "code",
   "execution_count": null,
   "metadata": {},
   "outputs": [],
   "source": []
  }
 ],
 "metadata": {
  "kernelspec": {
   "display_name": "Python 3",
   "language": "python",
   "name": "python3"
  },
  "language_info": {
   "codemirror_mode": {
    "name": "ipython",
    "version": 3
   },
   "file_extension": ".py",
   "mimetype": "text/x-python",
   "name": "python",
   "nbconvert_exporter": "python",
   "pygments_lexer": "ipython3",
   "version": "3.8.3"
  }
 },
 "nbformat": 4,
 "nbformat_minor": 4
}

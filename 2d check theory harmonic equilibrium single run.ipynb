{
 "cells": [
  {
   "cell_type": "code",
   "execution_count": 1,
   "metadata": {},
   "outputs": [],
   "source": [
    "from utils import *"
   ]
  },
  {
   "cell_type": "code",
   "execution_count": 2,
   "metadata": {},
   "outputs": [],
   "source": [
    "plt.rcParams[\"figure.facecolor\"] = \"white\""
   ]
  },
  {
   "cell_type": "raw",
   "metadata": {},
   "source": [
    "%matplotlib qt"
   ]
  },
  {
   "cell_type": "code",
   "execution_count": 3,
   "metadata": {},
   "outputs": [
    {
     "name": "stderr",
     "output_type": "stream",
     "text": [
      "Process ForkPoolWorker-4:\n",
      "Traceback (most recent call last):\n",
      "Process ForkPoolWorker-3:\n",
      "Process ForkPoolWorker-2:\n",
      "Process ForkPoolWorker-1:\n",
      "  File \"/home/ashot/miniconda3/lib/python3.7/multiprocessing/process.py\", line 297, in _bootstrap\n",
      "    self.run()\n",
      "Traceback (most recent call last):\n",
      "Traceback (most recent call last):\n",
      "  File \"/home/ashot/miniconda3/lib/python3.7/multiprocessing/process.py\", line 99, in run\n",
      "    self._target(*self._args, **self._kwargs)\n",
      "Traceback (most recent call last):\n",
      "  File \"/home/ashot/miniconda3/lib/python3.7/multiprocessing/process.py\", line 297, in _bootstrap\n",
      "    self.run()\n",
      "  File \"/home/ashot/miniconda3/lib/python3.7/multiprocessing/process.py\", line 297, in _bootstrap\n",
      "    self.run()\n",
      "  File \"/home/ashot/miniconda3/lib/python3.7/multiprocessing/pool.py\", line 110, in worker\n",
      "    task = get()\n",
      "  File \"/home/ashot/miniconda3/lib/python3.7/multiprocessing/process.py\", line 99, in run\n",
      "    self._target(*self._args, **self._kwargs)\n",
      "  File \"/home/ashot/miniconda3/lib/python3.7/multiprocessing/queues.py\", line 351, in get\n",
      "    with self._rlock:\n",
      "  File \"/home/ashot/miniconda3/lib/python3.7/multiprocessing/process.py\", line 99, in run\n",
      "    self._target(*self._args, **self._kwargs)\n",
      "  File \"/home/ashot/miniconda3/lib/python3.7/multiprocessing/queues.py\", line 352, in get\n",
      "    res = self._reader.recv_bytes()\n",
      "  File \"/home/ashot/miniconda3/lib/python3.7/multiprocessing/process.py\", line 297, in _bootstrap\n",
      "    self.run()\n",
      "  File \"/home/ashot/miniconda3/lib/python3.7/multiprocessing/connection.py\", line 216, in recv_bytes\n",
      "    buf = self._recv_bytes(maxlength)\n",
      "  File \"/home/ashot/miniconda3/lib/python3.7/multiprocessing/connection.py\", line 379, in _recv\n",
      "    chunk = read(handle, remaining)\n",
      "  File \"/home/ashot/miniconda3/lib/python3.7/multiprocessing/pool.py\", line 110, in worker\n",
      "    task = get()\n",
      "  File \"/home/ashot/miniconda3/lib/python3.7/multiprocessing/connection.py\", line 407, in _recv_bytes\n",
      "    buf = self._recv(4)\n",
      "  File \"/home/ashot/miniconda3/lib/python3.7/multiprocessing/process.py\", line 99, in run\n",
      "    self._target(*self._args, **self._kwargs)\n",
      "KeyboardInterrupt\n",
      "  File \"/home/ashot/miniconda3/lib/python3.7/multiprocessing/synchronize.py\", line 95, in __enter__\n",
      "    return self._semlock.__enter__()\n",
      "  File \"/home/ashot/miniconda3/lib/python3.7/multiprocessing/pool.py\", line 110, in worker\n",
      "    task = get()\n",
      "  File \"/home/ashot/miniconda3/lib/python3.7/multiprocessing/pool.py\", line 110, in worker\n",
      "    task = get()\n",
      "  File \"/home/ashot/miniconda3/lib/python3.7/multiprocessing/queues.py\", line 351, in get\n",
      "    with self._rlock:\n",
      "KeyboardInterrupt\n",
      "  File \"/home/ashot/miniconda3/lib/python3.7/multiprocessing/synchronize.py\", line 95, in __enter__\n",
      "    return self._semlock.__enter__()\n",
      "  File \"/home/ashot/miniconda3/lib/python3.7/multiprocessing/queues.py\", line 351, in get\n",
      "    with self._rlock:\n",
      "KeyboardInterrupt\n",
      "  File \"/home/ashot/miniconda3/lib/python3.7/multiprocessing/synchronize.py\", line 95, in __enter__\n",
      "    return self._semlock.__enter__()\n",
      "KeyboardInterrupt\n"
     ]
    }
   ],
   "source": [
    "pool = Pool(4)"
   ]
  },
  {
   "cell_type": "code",
   "execution_count": 5,
   "metadata": {},
   "outputs": [],
   "source": [
    "g0 = 2.0\n",
    "ka = 3.0\n",
    "b  = 0.1\n",
    "o0 = 1.0"
   ]
  },
  {
   "cell_type": "code",
   "execution_count": 6,
   "metadata": {},
   "outputs": [],
   "source": [
    "R,S,H = (1/o0**2,1,0)"
   ]
  },
  {
   "cell_type": "code",
   "execution_count": 8,
   "metadata": {},
   "outputs": [],
   "source": [
    "N=10000\n",
    "warmup=30000\n",
    "warmup_dt = 0.01\n",
    "dt=0.01\n",
    "samples=100\n",
    "skip=2\n",
    "runs=300\n",
    "time = np.linspace(0,N*dt, N//skip)"
   ]
  },
  {
   "cell_type": "code",
   "execution_count": 9,
   "metadata": {},
   "outputs": [
    {
     "name": "stdout",
     "output_type": "stream",
     "text": [
      "warmup required:  190.4259856862627\n",
      "memory required:  8.940696716308594\n",
      "relaxation time:  1.904259856862627\n",
      "result time:      100.0\n"
     ]
    }
   ],
   "source": [
    "print(\"warmup required: \",np.max(1/np.real(rootsPolyOmega(g0,ka,b,o0)))/warmup_dt)\n",
    "\n",
    "print(\"memory required: \", (len([1]) * (N// skip) * runs * samples *8 ) * 8 / 1024**3)\n",
    "print(\"relaxation time: \", np.max(1/np.real(rootsPolyOmega(g0,ka,b,o0))))\n",
    "print(\"result time:     \", time[-1])"
   ]
  },
  {
   "cell_type": "code",
   "execution_count": 10,
   "metadata": {},
   "outputs": [],
   "source": [
    "sigma = get_cov(np.array([R]), np.array([S]), np.array([H]))"
   ]
  },
  {
   "cell_type": "code",
   "execution_count": 11,
   "metadata": {},
   "outputs": [],
   "source": [
    "x0,y0,vx0,vy0 = np.random.multivariate_normal([0,0,0,0], sigma[...,0], samples).T\n",
    "kwargs = dict(x0=x0,y0=y0,vx0=vx0,vy0=vy0,\n",
    "    N=N, samples=samples,\n",
    "    dt=dt, warmup=warmup,warmup_dt=warmup_dt, skip=skip,\n",
    "    omega0=o0,gamma0=g0,b=b, theta=ka,kappa=ka)\n",
    "result = simulate_2d(pool,runs,**kwargs)"
   ]
  },
  {
   "cell_type": "code",
   "execution_count": 12,
   "metadata": {},
   "outputs": [
    {
     "data": {
      "text/plain": [
       "(8, 30000, 5000)"
      ]
     },
     "execution_count": 12,
     "metadata": {},
     "output_type": "execute_result"
    }
   ],
   "source": [
    "result = np.array(result); result.shape"
   ]
  },
  {
   "cell_type": "markdown",
   "metadata": {},
   "source": [
    "### Start Analisys"
   ]
  },
  {
   "cell_type": "code",
   "execution_count": null,
   "metadata": {},
   "outputs": [],
   "source": [
    "cov_all = np.einsum(\"akj,bkj->jab\", result[:4,:,:],result[:4,:,:],optimize=True)/(result.shape[1]-1)\n",
    "# cov = cov[df[df.b].index]"
   ]
  },
  {
   "cell_type": "code",
   "execution_count": null,
   "metadata": {},
   "outputs": [],
   "source": [
    "cov=cov_all[:1000]"
   ]
  },
  {
   "cell_type": "code",
   "execution_count": null,
   "metadata": {},
   "outputs": [],
   "source": [
    "sp = 1\n",
    "cov_R = cov[::sp,(0,1),(0,1)].transpose(0,1).reshape(-1,2)\n",
    "cov_S = cov[::sp,(2,3),(2,3)].transpose(0,1).reshape(-1, 2)\n",
    "cov_H = cov[::sp,(0,1,2,3),(3,2,1,0)].transpose(0,1).reshape(-1, 4)\n",
    "cov_Z = cov[::sp,(0,0,1,1,2,2,3,3),(1,2,0,3,0,3,1,2)].transpose(0,1).reshape(-1, 8)"
   ]
  },
  {
   "cell_type": "code",
   "execution_count": null,
   "metadata": {
    "scrolled": false
   },
   "outputs": [],
   "source": [
    "plt.figure(figsize=(14,8))\n",
    "plt.subplot(2,2,1)\n",
    "plt.plot(cov_R, alpha=0.2);\n",
    "plt.subplot(2,2,2)\n",
    "plt.plot(cov_S, alpha=0.2);\n",
    "plt.subplot(2,2,3)\n",
    "plt.plot(cov_H, alpha=0.2);\n",
    "plt.subplot(2,2,4)\n",
    "plt.plot(cov_Z, alpha=0.2);"
   ]
  },
  {
   "cell_type": "code",
   "execution_count": null,
   "metadata": {},
   "outputs": [],
   "source": [
    "stationari_treshold = 0"
   ]
  },
  {
   "cell_type": "markdown",
   "metadata": {},
   "source": [
    "### Theory"
   ]
  },
  {
   "cell_type": "code",
   "execution_count": 13,
   "metadata": {},
   "outputs": [
    {
     "data": {
      "text/plain": [
       "array([ 0.02781223+0.52513841j, -2.10618048+1.20228529j,\n",
       "        1.97836825+1.2725763j ])"
      ]
     },
     "execution_count": 13,
     "metadata": {},
     "output_type": "execute_result"
    }
   ],
   "source": [
    "1j*rootsPolyOmega(g0,ka,b,o0)"
   ]
  },
  {
   "cell_type": "code",
   "execution_count": 14,
   "metadata": {},
   "outputs": [],
   "source": [
    "def Cxy_theory(t, gamma,kappa,b,omega0):\n",
    "    omega1,omega2,omega3 = 1j*rootsPolyOmega(gamma,kappa,b,omega0)\n",
    "    def Conjugate(x):\n",
    "        return np.conj(x)\n",
    "    \n",
    "    return -np.imag((2 * 1j * np.e**(1j * t * omega1) * gamma * kappa**2)/((omega1 - omega2) * \n",
    "(omega1 - omega3) * (omega1 - \n",
    "    Conjugate(omega1)) * (omega1 - \n",
    "    Conjugate(omega2)) * (omega1 - Conjugate(omega3))) + (\n",
    " 2 * 1j * np.e**(1j * t * omega2) * gamma * kappa**2)/((-omega1 + omega2) * \n",
    "(omega2 - omega3) * (omega2 - \n",
    "    Conjugate(omega1)) * (omega2 - \n",
    "    Conjugate(omega2)) * (omega2 - Conjugate(omega3))) + (\n",
    " 2 * 1j * np.e**(1j * t * omega3) * gamma * kappa**2)/((-omega1 + omega3) * \n",
    "(-omega2 + omega3) * (omega3 - \n",
    "    Conjugate(omega1)) * (omega3 - \n",
    "    Conjugate(omega2)) * (omega3 - Conjugate(omega3))))\n",
    "\n",
    "def Cvxvy_theory(t, gamma,kappa,b,omega0):\n",
    "    omega1,omega2,omega3 = 1j*rootsPolyOmega(gamma,kappa,b,omega0)\n",
    "    def Conjugate(x):\n",
    "        return np.conj(x)\n",
    "    \n",
    "    return -np.imag((2 * 1j * omega1**2 * np.e**(1j * t * omega1) * gamma * kappa**2)/((omega1 - omega2) * \n",
    "(omega1 - omega3) * (omega1 - \n",
    "    Conjugate(omega1)) * (omega1 - \n",
    "    Conjugate(omega2)) * (omega1 - Conjugate(omega3))) + (\n",
    " 2 * 1j * omega2**2 * np.e**(1j * t * omega2) * gamma * kappa**2)/((-omega1 + omega2) * \n",
    "(omega2 - omega3) * (omega2 - \n",
    "    Conjugate(omega1)) * (omega2 - \n",
    "    Conjugate(omega2)) * (omega2 - Conjugate(omega3))) + (\n",
    " 2 * 1j * omega3**2 * np.e**(1j * t * omega3) * gamma * kappa**2)/((-omega1 + omega3) * \n",
    "(-omega2 + omega3) * (omega3 - \n",
    "    Conjugate(omega1)) * (omega3 - \n",
    "    Conjugate(omega2)) * (omega3 - Conjugate(omega3))))\n",
    "\n",
    "def Cxvy_theory(t, gamma,kappa,b,omega0):\n",
    "    omega1,omega2,omega3 = 1j*rootsPolyOmega(gamma,kappa,b,omega0)\n",
    "    def Conjugate(x):\n",
    "        return np.conj(x)\n",
    "    \n",
    "    return -np.imag((2 * omega1 * np.e**(1j * t * omega1) * gamma * kappa**2)/((omega1 - omega2) * \n",
    "(omega1 - omega3) * (omega1 - \n",
    "    Conjugate(omega1)) * (omega1 - \n",
    "    Conjugate(omega2)) * (omega1 - Conjugate(omega3))) + (\n",
    " 2 * omega2 * np.e**(1j * t * omega2) * gamma * kappa**2)/((-omega1 + omega2) * \n",
    "(omega2 - omega3) * (omega2 - \n",
    "    Conjugate(omega1)) * (omega2 - \n",
    "    Conjugate(omega2)) * (omega2 - Conjugate(omega3))) + (\n",
    " 2 * omega3 * np.e**(1j * t * omega3) * gamma * kappa**2)/((-omega1 + omega3) * \n",
    "(-omega2 + omega3) * (omega3 - \n",
    "    Conjugate(omega1)) * (omega3 - \n",
    "    Conjugate(omega2)) * (omega3 - Conjugate(omega3))))"
   ]
  },
  {
   "cell_type": "markdown",
   "metadata": {},
   "source": [
    "### Autocorrelations"
   ]
  },
  {
   "cell_type": "code",
   "execution_count": 15,
   "metadata": {},
   "outputs": [
    {
     "data": {
      "text/plain": [
       "(8, 30000, 5000)"
      ]
     },
     "execution_count": 15,
     "metadata": {},
     "output_type": "execute_result"
    }
   ],
   "source": [
    "result.shape"
   ]
  },
  {
   "cell_type": "code",
   "execution_count": 16,
   "metadata": {},
   "outputs": [],
   "source": [
    "x,y,vx,vy = result[:4]"
   ]
  },
  {
   "cell_type": "code",
   "execution_count": 18,
   "metadata": {},
   "outputs": [
    {
     "data": {
      "application/vnd.jupyter.widget-view+json": {
       "model_id": "da402f66cb334d5e9dfc585eee4a094e",
       "version_major": 2,
       "version_minor": 0
      },
      "text/plain": [
       "HBox(children=(FloatProgress(value=0.0, max=4999.0), HTML(value='')))"
      ]
     },
     "metadata": {},
     "output_type": "display_data"
    },
    {
     "name": "stdout",
     "output_type": "stream",
     "text": [
      "\n"
     ]
    }
   ],
   "source": [
    "dn = 1\n",
    "ts = []\n",
    "Cxvy, Cxvy_err = [], []\n",
    "Cvxvy, Cvxvy_err = [], []\n",
    "sz = 400\n",
    "for n in tqdm(range(1,x.shape[1],dn)):\n",
    "    ts.append(n*skip*dt)\n",
    "    m,e = mean_with_err((x[:,n:][:,:sz]*vy[:,:-n][:,:sz]).flatten())\n",
    "#     m,e = mean_with_err((x[:,n]*vy[:,0]).flatten())\n",
    "    Cxvy.append(m)\n",
    "    Cxvy_err.append(e)\n",
    "\n",
    "    m,e = mean_with_err((vx[:,n:][:,:sz]*vy[:,:-n][:,:sz]).flatten())\n",
    "#     m,e = mean_with_err((x[:,n]*vy[:,0]).flatten())\n",
    "    Cvxvy.append(m)\n",
    "    Cvxvy_err.append(e)\n"
   ]
  },
  {
   "cell_type": "code",
   "execution_count": 19,
   "metadata": {},
   "outputs": [
    {
     "data": {
      "text/plain": [
       "0.9999374579589062"
      ]
     },
     "execution_count": 19,
     "metadata": {},
     "output_type": "execute_result"
    }
   ],
   "source": [
    "np.std(x)"
   ]
  },
  {
   "cell_type": "code",
   "execution_count": 20,
   "metadata": {},
   "outputs": [
    {
     "data": {
      "text/plain": [
       "(0, 20)"
      ]
     },
     "execution_count": 20,
     "metadata": {},
     "output_type": "execute_result"
    },
    {
     "data": {
      "image/png": "[encoded data removed]",
      "text/plain": [
       "<Figure size 720x576 with 1 Axes>"
      ]
     },
     "metadata": {},
     "output_type": "display_data"
    }
   ],
   "source": [
    "plt.figure(figsize=(10,8))\n",
    "plt.errorbar(ts,Cxvy,yerr=Cxvy_err)\n",
    "plt.plot(ts, [Cxvy_theory(s,g0,ka,b,o0) for s in ts], c=\"k\")\n",
    "plt.xlim(0,20)\n",
    "# X(t)Vy(0)"
   ]
  },
  {
   "cell_type": "code",
   "execution_count": 21,
   "metadata": {
    "scrolled": false
   },
   "outputs": [
    {
     "data": {
      "text/plain": [
       "(0, 20)"
      ]
     },
     "execution_count": 21,
     "metadata": {},
     "output_type": "execute_result"
    },
    {
     "data": {
      "image/png": "[encoded data removed]",
      "text/plain": [
       "<Figure size 720x576 with 1 Axes>"
      ]
     },
     "metadata": {},
     "output_type": "display_data"
    }
   ],
   "source": [
    "plt.figure(figsize=(10,8))\n",
    "plt.errorbar(ts,Cvxvy,yerr=Cxvy_err)\n",
    "plt.plot(ts, [Cvxvy_theory(s,g0,ka,b,o0) for s in ts], c=\"k\")\n",
    "plt.xlim(0,20)\n",
    "# Vx(t)Vy(0)"
   ]
  },
  {
   "cell_type": "code",
   "execution_count": null,
   "metadata": {},
   "outputs": [],
   "source": []
  }
 ],
 "metadata": {
  "kernelspec": {
   "display_name": "Python 3",
   "language": "python",
   "name": "python3"
  },
  "language_info": {
   "codemirror_mode": {
    "name": "ipython",
    "version": 3
   },
   "file_extension": ".py",
   "mimetype": "text/x-python",
   "name": "python",
   "nbconvert_exporter": "python",
   "pygments_lexer": "ipython3",
   "version": "3.7.3"
  }
 },
 "nbformat": 4,
 "nbformat_minor": 4
}
